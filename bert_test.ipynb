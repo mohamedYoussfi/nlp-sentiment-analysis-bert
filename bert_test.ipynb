{
 "cells": [
  {
   "cell_type": "code",
   "execution_count": 6,
   "metadata": {},
   "outputs": [],
   "source": [
    "import tensorflow_hub as hub\n",
    "import tensorflow_text as text"
   ]
  },
  {
   "cell_type": "code",
   "execution_count": 7,
   "metadata": {},
   "outputs": [],
   "source": [
    "encoder_url=\"https://tfhub.dev/tensorflow/bert_en_uncased_L-12_H-768_A-12/4\"\n",
    "preprocess_url=\"https://tfhub.dev/tensorflow/bert_en_uncased_preprocess/3\""
   ]
  },
  {
   "cell_type": "code",
   "execution_count": 8,
   "metadata": {},
   "outputs": [],
   "source": [
    "bert_preprocess_model=hub.KerasLayer(preprocess_url)\n",
    "bert_encoder_model=hub.KerasLayer(encoder_url)"
   ]
  },
  {
   "cell_type": "code",
   "execution_count": 15,
   "metadata": {},
   "outputs": [],
   "source": [
    "text=[\"film très intéressant\",\"j'aime programmer\"]\n",
    "preprocess_text_layer=bert_preprocess_model(text)"
   ]
  },
  {
   "cell_type": "code",
   "execution_count": 16,
   "metadata": {},
   "outputs": [
    {
     "data": {
      "text/plain": [
       "dict_keys(['input_type_ids', 'input_mask', 'input_word_ids'])"
      ]
     },
     "execution_count": 16,
     "metadata": {},
     "output_type": "execute_result"
    }
   ],
   "source": [
    "preprocess_text.keys()"
   ]
  },
  {
   "attachments": {},
   "cell_type": "markdown",
   "metadata": {},
   "source": [
    "CLS film très intéressant SEP"
   ]
  },
  {
   "cell_type": "code",
   "execution_count": 13,
   "metadata": {},
   "outputs": [
    {
     "data": {
      "text/plain": [
       "<tf.Tensor: shape=(2, 128), dtype=int32, numpy=\n",
       "array([[1, 1, 1, 1, 1, 0, 0, 0, 0, 0, 0, 0, 0, 0, 0, 0, 0, 0, 0, 0, 0, 0,\n",
       "        0, 0, 0, 0, 0, 0, 0, 0, 0, 0, 0, 0, 0, 0, 0, 0, 0, 0, 0, 0, 0, 0,\n",
       "        0, 0, 0, 0, 0, 0, 0, 0, 0, 0, 0, 0, 0, 0, 0, 0, 0, 0, 0, 0, 0, 0,\n",
       "        0, 0, 0, 0, 0, 0, 0, 0, 0, 0, 0, 0, 0, 0, 0, 0, 0, 0, 0, 0, 0, 0,\n",
       "        0, 0, 0, 0, 0, 0, 0, 0, 0, 0, 0, 0, 0, 0, 0, 0, 0, 0, 0, 0, 0, 0,\n",
       "        0, 0, 0, 0, 0, 0, 0, 0, 0, 0, 0, 0, 0, 0, 0, 0, 0, 0],\n",
       "       [1, 1, 1, 1, 1, 1, 1, 0, 0, 0, 0, 0, 0, 0, 0, 0, 0, 0, 0, 0, 0, 0,\n",
       "        0, 0, 0, 0, 0, 0, 0, 0, 0, 0, 0, 0, 0, 0, 0, 0, 0, 0, 0, 0, 0, 0,\n",
       "        0, 0, 0, 0, 0, 0, 0, 0, 0, 0, 0, 0, 0, 0, 0, 0, 0, 0, 0, 0, 0, 0,\n",
       "        0, 0, 0, 0, 0, 0, 0, 0, 0, 0, 0, 0, 0, 0, 0, 0, 0, 0, 0, 0, 0, 0,\n",
       "        0, 0, 0, 0, 0, 0, 0, 0, 0, 0, 0, 0, 0, 0, 0, 0, 0, 0, 0, 0, 0, 0,\n",
       "        0, 0, 0, 0, 0, 0, 0, 0, 0, 0, 0, 0, 0, 0, 0, 0, 0, 0]],\n",
       "      dtype=int32)>"
      ]
     },
     "execution_count": 13,
     "metadata": {},
     "output_type": "execute_result"
    }
   ],
   "source": [
    "preprocess_text['input_mask']"
   ]
  },
  {
   "cell_type": "code",
   "execution_count": 17,
   "metadata": {},
   "outputs": [
    {
     "data": {
      "text/plain": [
       "<tf.Tensor: shape=(2, 128), dtype=int32, numpy=\n",
       "array([[  101,  2143, 24403,  6970,  7971,  4630,   102,     0,     0,\n",
       "            0,     0,     0,     0,     0,     0,     0,     0,     0,\n",
       "            0,     0,     0,     0,     0,     0,     0,     0,     0,\n",
       "            0,     0,     0,     0,     0,     0,     0,     0,     0,\n",
       "            0,     0,     0,     0,     0,     0,     0,     0,     0,\n",
       "            0,     0,     0,     0,     0,     0,     0,     0,     0,\n",
       "            0,     0,     0,     0,     0,     0,     0,     0,     0,\n",
       "            0,     0,     0,     0,     0,     0,     0,     0,     0,\n",
       "            0,     0,     0,     0,     0,     0,     0,     0,     0,\n",
       "            0,     0,     0,     0,     0,     0,     0,     0,     0,\n",
       "            0,     0,     0,     0,     0,     0,     0,     0,     0,\n",
       "            0,     0,     0,     0,     0,     0,     0,     0,     0,\n",
       "            0,     0,     0,     0,     0,     0,     0,     0,     0,\n",
       "            0,     0,     0,     0,     0,     0,     0,     0,     0,\n",
       "            0,     0],\n",
       "       [  101,  1046,  1005,  6614,  2063, 20273,   102,     0,     0,\n",
       "            0,     0,     0,     0,     0,     0,     0,     0,     0,\n",
       "            0,     0,     0,     0,     0,     0,     0,     0,     0,\n",
       "            0,     0,     0,     0,     0,     0,     0,     0,     0,\n",
       "            0,     0,     0,     0,     0,     0,     0,     0,     0,\n",
       "            0,     0,     0,     0,     0,     0,     0,     0,     0,\n",
       "            0,     0,     0,     0,     0,     0,     0,     0,     0,\n",
       "            0,     0,     0,     0,     0,     0,     0,     0,     0,\n",
       "            0,     0,     0,     0,     0,     0,     0,     0,     0,\n",
       "            0,     0,     0,     0,     0,     0,     0,     0,     0,\n",
       "            0,     0,     0,     0,     0,     0,     0,     0,     0,\n",
       "            0,     0,     0,     0,     0,     0,     0,     0,     0,\n",
       "            0,     0,     0,     0,     0,     0,     0,     0,     0,\n",
       "            0,     0,     0,     0,     0,     0,     0,     0,     0,\n",
       "            0,     0]], dtype=int32)>"
      ]
     },
     "execution_count": 17,
     "metadata": {},
     "output_type": "execute_result"
    }
   ],
   "source": [
    "preprocess_text['input_word_ids']"
   ]
  },
  {
   "cell_type": "code",
   "execution_count": 18,
   "metadata": {},
   "outputs": [],
   "source": [
    "bert_result=bert_encoder_model(preprocess_text)"
   ]
  },
  {
   "cell_type": "code",
   "execution_count": 20,
   "metadata": {},
   "outputs": [
    {
     "data": {
      "text/plain": [
       "dict_keys(['pooled_output', 'sequence_output', 'encoder_outputs', 'default'])"
      ]
     },
     "execution_count": 20,
     "metadata": {},
     "output_type": "execute_result"
    }
   ],
   "source": [
    "bert_result.keys()"
   ]
  },
  {
   "cell_type": "code",
   "execution_count": 21,
   "metadata": {},
   "outputs": [
    {
     "data": {
      "text/plain": [
       "<tf.Tensor: shape=(2, 768), dtype=float32, numpy=\n",
       "array([[-0.87463164, -0.38243318, -0.26445866, ...,  0.0185239 ,\n",
       "        -0.56862926,  0.85448015],\n",
       "       [-0.7514066 , -0.36355808, -0.55052906, ..., -0.21925804,\n",
       "        -0.593769  ,  0.8405341 ]], dtype=float32)>"
      ]
     },
     "execution_count": 21,
     "metadata": {},
     "output_type": "execute_result"
    }
   ],
   "source": [
    "bert_result['pooled_output']"
   ]
  },
  {
   "cell_type": "code",
   "execution_count": 22,
   "metadata": {},
   "outputs": [
    {
     "data": {
      "text/plain": [
       "<tf.Tensor: shape=(2, 128, 768), dtype=float32, numpy=\n",
       "array([[[ 4.7587544e-02,  1.6923460e-01,  7.7126376e-02, ...,\n",
       "         -2.8983000e-01,  2.2872372e-01,  3.4485805e-01],\n",
       "        [ 7.6220340e-01,  7.3382723e-01,  1.6153494e-01, ...,\n",
       "         -3.9449143e-01,  4.9098676e-01, -3.0124626e-01],\n",
       "        [ 3.6379176e-01, -4.1628414e-01, -3.7541878e-01, ...,\n",
       "         -2.9409811e-01,  2.2002225e-01,  2.0828578e-01],\n",
       "        ...,\n",
       "        [ 2.2621526e-01,  2.7320665e-01,  2.6172823e-01, ...,\n",
       "         -1.9815063e-01,  1.6402285e-01,  2.8825986e-01],\n",
       "        [ 1.4901665e-01,  2.5003564e-01,  2.4210921e-01, ...,\n",
       "         -1.9440858e-01,  1.6394076e-01,  3.0253309e-01],\n",
       "        [ 1.6990070e-01,  8.7593496e-02,  2.4376702e-01, ...,\n",
       "         -1.7580509e-01,  1.3445561e-01,  2.5496206e-01]],\n",
       "\n",
       "       [[-5.8119297e-01,  8.1721887e-02, -2.9347783e-01, ...,\n",
       "         -2.8365567e-01,  3.3412915e-01,  3.4376150e-01],\n",
       "        [-5.3166848e-01,  3.4034321e-01,  6.9151513e-02, ...,\n",
       "          4.5979656e-03, -1.8439226e-02, -4.3969986e-01],\n",
       "        [-9.4643211e-01,  2.6733208e-01,  1.2961841e-01, ...,\n",
       "         -1.0774399e-01, -1.9429851e-01, -3.6414406e-01],\n",
       "        ...,\n",
       "        [-2.5524408e-01,  8.4354028e-02,  2.8826571e-01, ...,\n",
       "         -1.5113288e-01,  1.6488191e-01, -8.7548979e-05],\n",
       "        [-2.3821563e-01,  2.3623331e-01,  2.4482535e-01, ...,\n",
       "         -1.5003324e-01,  1.1779331e-01, -4.8190452e-02],\n",
       "        [-1.0083496e-01, -5.5286877e-02,  3.0911419e-01, ...,\n",
       "         -7.0214078e-02,  2.0750631e-01,  1.7983980e-02]]], dtype=float32)>"
      ]
     },
     "execution_count": 22,
     "metadata": {},
     "output_type": "execute_result"
    }
   ],
   "source": [
    "bert_result['sequence_output']"
   ]
  },
  {
   "cell_type": "code",
   "execution_count": 24,
   "metadata": {},
   "outputs": [
    {
     "data": {
      "text/plain": [
       "12"
      ]
     },
     "execution_count": 24,
     "metadata": {},
     "output_type": "execute_result"
    }
   ],
   "source": [
    "len(bert_result['encoder_outputs'])"
   ]
  },
  {
   "cell_type": "code",
   "execution_count": 25,
   "metadata": {},
   "outputs": [
    {
     "data": {
      "text/plain": [
       "<tf.Tensor: shape=(2, 128, 768), dtype=float32, numpy=\n",
       "array([[[ 0.16622841,  0.03289875, -0.07711431, ...,  0.04275141,\n",
       "          0.07255197,  0.02728849],\n",
       "        [ 0.5899281 ,  0.59393984, -1.309612  , ...,  0.8691439 ,\n",
       "          1.4146658 , -0.96069556],\n",
       "        [ 1.3714678 , -0.63622   , -0.07393055, ..., -0.7915001 ,\n",
       "          0.7203641 ,  0.67828983],\n",
       "        ...,\n",
       "        [-0.0969221 , -0.195195  ,  0.33102673, ...,  0.44727468,\n",
       "         -0.25405547,  0.1692087 ],\n",
       "        [-0.19975469, -0.21937357,  0.2046286 , ...,  0.481112  ,\n",
       "         -0.14943115,  0.0562241 ],\n",
       "        [-0.04454441, -0.13431303,  0.25578135, ...,  0.8170619 ,\n",
       "         -0.5051978 , -0.02384561]],\n",
       "\n",
       "       [[ 0.09130879,  0.13969925, -0.08473843, ...,  0.05927008,\n",
       "          0.09288895, -0.03891189],\n",
       "        [ 0.39029324, -0.25342304, -0.2964155 , ...,  0.01349854,\n",
       "          1.3532654 , -0.5219386 ],\n",
       "        [-0.6265203 , -0.04400027,  0.46066177, ..., -0.26632017,\n",
       "          0.6052178 , -1.6482806 ],\n",
       "        ...,\n",
       "        [ 0.04866339, -0.18194064,  0.5419082 , ..., -0.06950963,\n",
       "         -0.20570034, -0.00450297],\n",
       "        [-0.04800104, -0.1783843 ,  0.39959526, ..., -0.02825068,\n",
       "         -0.1425879 , -0.08934174],\n",
       "        [ 0.11460687, -0.13480121,  0.42310578, ...,  0.3014822 ,\n",
       "         -0.4047185 , -0.12331516]]], dtype=float32)>"
      ]
     },
     "execution_count": 25,
     "metadata": {},
     "output_type": "execute_result"
    }
   ],
   "source": [
    "bert_result['encoder_outputs'][0]"
   ]
  },
  {
   "cell_type": "code",
   "execution_count": 27,
   "metadata": {},
   "outputs": [
    {
     "data": {
      "text/plain": [
       "<tf.Tensor: shape=(2, 128, 768), dtype=bool, numpy=\n",
       "array([[[ True,  True,  True, ...,  True,  True,  True],\n",
       "        [ True,  True,  True, ...,  True,  True,  True],\n",
       "        [ True,  True,  True, ...,  True,  True,  True],\n",
       "        ...,\n",
       "        [ True,  True,  True, ...,  True,  True,  True],\n",
       "        [ True,  True,  True, ...,  True,  True,  True],\n",
       "        [ True,  True,  True, ...,  True,  True,  True]],\n",
       "\n",
       "       [[ True,  True,  True, ...,  True,  True,  True],\n",
       "        [ True,  True,  True, ...,  True,  True,  True],\n",
       "        [ True,  True,  True, ...,  True,  True,  True],\n",
       "        ...,\n",
       "        [ True,  True,  True, ...,  True,  True,  True],\n",
       "        [ True,  True,  True, ...,  True,  True,  True],\n",
       "        [ True,  True,  True, ...,  True,  True,  True]]])>"
      ]
     },
     "execution_count": 27,
     "metadata": {},
     "output_type": "execute_result"
    }
   ],
   "source": [
    "bert_result['encoder_outputs'][-1]==bert_result['sequence_output']"
   ]
  },
  {
   "cell_type": "code",
   "execution_count": null,
   "metadata": {},
   "outputs": [],
   "source": []
  }
 ],
 "metadata": {
  "kernelspec": {
   "display_name": "base",
   "language": "python",
   "name": "python3"
  },
  "language_info": {
   "codemirror_mode": {
    "name": "ipython",
    "version": 3
   },
   "file_extension": ".py",
   "mimetype": "text/x-python",
   "name": "python",
   "nbconvert_exporter": "python",
   "pygments_lexer": "ipython3",
   "version": "3.10.10"
  },
  "orig_nbformat": 4
 },
 "nbformat": 4,
 "nbformat_minor": 2
}
