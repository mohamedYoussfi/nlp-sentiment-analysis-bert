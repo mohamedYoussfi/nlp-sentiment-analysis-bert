{
 "cells": [
  {
   "cell_type": "code",
   "execution_count": 25,
   "metadata": {},
   "outputs": [
    {
     "name": "stdout",
     "output_type": "stream",
     "text": [
      "Requirement already satisfied: deep-translator in /Users/mohamedyoussfi/miniconda3/lib/python3.10/site-packages (1.11.4)\n",
      "Requirement already satisfied: requests<3.0.0,>=2.23.0 in /Users/mohamedyoussfi/miniconda3/lib/python3.10/site-packages (from deep-translator) (2.31.0)\n",
      "Requirement already satisfied: beautifulsoup4<5.0.0,>=4.9.1 in /Users/mohamedyoussfi/miniconda3/lib/python3.10/site-packages (from deep-translator) (4.12.2)\n",
      "Requirement already satisfied: soupsieve>1.2 in /Users/mohamedyoussfi/miniconda3/lib/python3.10/site-packages (from beautifulsoup4<5.0.0,>=4.9.1->deep-translator) (2.4)\n",
      "Requirement already satisfied: idna<4,>=2.5 in /Users/mohamedyoussfi/miniconda3/lib/python3.10/site-packages (from requests<3.0.0,>=2.23.0->deep-translator) (2.10)\n",
      "Requirement already satisfied: urllib3<3,>=1.21.1 in /Users/mohamedyoussfi/miniconda3/lib/python3.10/site-packages (from requests<3.0.0,>=2.23.0->deep-translator) (1.26.15)\n",
      "Requirement already satisfied: charset-normalizer<4,>=2 in /Users/mohamedyoussfi/miniconda3/lib/python3.10/site-packages (from requests<3.0.0,>=2.23.0->deep-translator) (2.0.4)\n",
      "Requirement already satisfied: certifi>=2017.4.17 in /Users/mohamedyoussfi/miniconda3/lib/python3.10/site-packages (from requests<3.0.0,>=2.23.0->deep-translator) (2023.5.7)\n"
     ]
    }
   ],
   "source": [
    "! pip install -U deep-translator"
   ]
  },
  {
   "cell_type": "code",
   "execution_count": 24,
   "metadata": {},
   "outputs": [
    {
     "data": {
      "text/plain": [
       "'I am'"
      ]
     },
     "execution_count": 24,
     "metadata": {},
     "output_type": "execute_result"
    }
   ],
   "source": [
    "from deep_translator import GoogleTranslator\n",
    "\n",
    "translator = GoogleTranslator(source=\"auto\", target=\"en\")\n",
    "translator.translate(\"je suis\")"
   ]
  },
  {
   "cell_type": "code",
   "execution_count": null,
   "metadata": {},
   "outputs": [],
   "source": []
  }
 ],
 "metadata": {
  "kernelspec": {
   "display_name": "base",
   "language": "python",
   "name": "python3"
  },
  "language_info": {
   "codemirror_mode": {
    "name": "ipython",
    "version": 3
   },
   "file_extension": ".py",
   "mimetype": "text/x-python",
   "name": "python",
   "nbconvert_exporter": "python",
   "pygments_lexer": "ipython3",
   "version": "3.10.10"
  },
  "orig_nbformat": 4
 },
 "nbformat": 4,
 "nbformat_minor": 2
}
