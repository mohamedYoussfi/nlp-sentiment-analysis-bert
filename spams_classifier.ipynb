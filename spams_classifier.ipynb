{
 "cells": [
  {
   "cell_type": "code",
   "execution_count": 87,
   "metadata": {},
   "outputs": [],
   "source": [
    "import pandas as pd\n",
    "import tensorflow as tf\n",
    "import tensorflow_hub as hub\n",
    "import tensorflow_text as text\n",
    "import seaborn as sns\n",
    "import numpy as np"
   ]
  },
  {
   "cell_type": "code",
   "execution_count": 2,
   "metadata": {},
   "outputs": [],
   "source": [
    "df=pd.read_csv(\"spam.csv\")"
   ]
  },
  {
   "cell_type": "code",
   "execution_count": 3,
   "metadata": {},
   "outputs": [
    {
     "data": {
      "text/html": [
       "<div>\n",
       "<style scoped>\n",
       "    .dataframe tbody tr th:only-of-type {\n",
       "        vertical-align: middle;\n",
       "    }\n",
       "\n",
       "    .dataframe tbody tr th {\n",
       "        vertical-align: top;\n",
       "    }\n",
       "\n",
       "    .dataframe thead th {\n",
       "        text-align: right;\n",
       "    }\n",
       "</style>\n",
       "<table border=\"1\" class=\"dataframe\">\n",
       "  <thead>\n",
       "    <tr style=\"text-align: right;\">\n",
       "      <th></th>\n",
       "      <th>Category</th>\n",
       "      <th>Message</th>\n",
       "    </tr>\n",
       "  </thead>\n",
       "  <tbody>\n",
       "    <tr>\n",
       "      <th>0</th>\n",
       "      <td>ham</td>\n",
       "      <td>Go until jurong point, crazy.. Available only ...</td>\n",
       "    </tr>\n",
       "    <tr>\n",
       "      <th>1</th>\n",
       "      <td>ham</td>\n",
       "      <td>Ok lar... Joking wif u oni...</td>\n",
       "    </tr>\n",
       "    <tr>\n",
       "      <th>2</th>\n",
       "      <td>spam</td>\n",
       "      <td>Free entry in 2 a wkly comp to win FA Cup fina...</td>\n",
       "    </tr>\n",
       "    <tr>\n",
       "      <th>3</th>\n",
       "      <td>ham</td>\n",
       "      <td>U dun say so early hor... U c already then say...</td>\n",
       "    </tr>\n",
       "    <tr>\n",
       "      <th>4</th>\n",
       "      <td>ham</td>\n",
       "      <td>Nah I don't think he goes to usf, he lives aro...</td>\n",
       "    </tr>\n",
       "  </tbody>\n",
       "</table>\n",
       "</div>"
      ],
      "text/plain": [
       "  Category                                            Message\n",
       "0      ham  Go until jurong point, crazy.. Available only ...\n",
       "1      ham                      Ok lar... Joking wif u oni...\n",
       "2     spam  Free entry in 2 a wkly comp to win FA Cup fina...\n",
       "3      ham  U dun say so early hor... U c already then say...\n",
       "4      ham  Nah I don't think he goes to usf, he lives aro..."
      ]
     },
     "execution_count": 3,
     "metadata": {},
     "output_type": "execute_result"
    }
   ],
   "source": [
    "df.head()"
   ]
  },
  {
   "cell_type": "code",
   "execution_count": 4,
   "metadata": {},
   "outputs": [
    {
     "name": "stdout",
     "output_type": "stream",
     "text": [
      "<class 'pandas.core.frame.DataFrame'>\n",
      "RangeIndex: 5572 entries, 0 to 5571\n",
      "Data columns (total 2 columns):\n",
      " #   Column    Non-Null Count  Dtype \n",
      "---  ------    --------------  ----- \n",
      " 0   Category  5572 non-null   object\n",
      " 1   Message   5572 non-null   object\n",
      "dtypes: object(2)\n",
      "memory usage: 87.2+ KB\n"
     ]
    }
   ],
   "source": [
    "df.info()"
   ]
  },
  {
   "cell_type": "code",
   "execution_count": 5,
   "metadata": {},
   "outputs": [
    {
     "data": {
      "text/plain": [
       "Category\n",
       "ham     4825\n",
       "spam     747\n",
       "Name: count, dtype: int64"
      ]
     },
     "execution_count": 5,
     "metadata": {},
     "output_type": "execute_result"
    }
   ],
   "source": [
    "df.Category.value_counts()"
   ]
  },
  {
   "cell_type": "code",
   "execution_count": 6,
   "metadata": {},
   "outputs": [
    {
     "data": {
      "text/plain": [
       "0"
      ]
     },
     "execution_count": 6,
     "metadata": {},
     "output_type": "execute_result"
    }
   ],
   "source": [
    "df.Category.isna().sum()"
   ]
  },
  {
   "cell_type": "code",
   "execution_count": 7,
   "metadata": {},
   "outputs": [
    {
     "data": {
      "text/plain": [
       "0"
      ]
     },
     "execution_count": 7,
     "metadata": {},
     "output_type": "execute_result"
    }
   ],
   "source": [
    "df.Message.isna().sum()"
   ]
  },
  {
   "cell_type": "code",
   "execution_count": 8,
   "metadata": {},
   "outputs": [],
   "source": [
    "spams=df[df['Category']=='spam']"
   ]
  },
  {
   "cell_type": "code",
   "execution_count": 9,
   "metadata": {},
   "outputs": [
    {
     "data": {
      "text/html": [
       "<div>\n",
       "<style scoped>\n",
       "    .dataframe tbody tr th:only-of-type {\n",
       "        vertical-align: middle;\n",
       "    }\n",
       "\n",
       "    .dataframe tbody tr th {\n",
       "        vertical-align: top;\n",
       "    }\n",
       "\n",
       "    .dataframe thead th {\n",
       "        text-align: right;\n",
       "    }\n",
       "</style>\n",
       "<table border=\"1\" class=\"dataframe\">\n",
       "  <thead>\n",
       "    <tr style=\"text-align: right;\">\n",
       "      <th></th>\n",
       "      <th>Category</th>\n",
       "      <th>Message</th>\n",
       "    </tr>\n",
       "  </thead>\n",
       "  <tbody>\n",
       "    <tr>\n",
       "      <th>2</th>\n",
       "      <td>spam</td>\n",
       "      <td>Free entry in 2 a wkly comp to win FA Cup fina...</td>\n",
       "    </tr>\n",
       "    <tr>\n",
       "      <th>5</th>\n",
       "      <td>spam</td>\n",
       "      <td>FreeMsg Hey there darling it's been 3 week's n...</td>\n",
       "    </tr>\n",
       "    <tr>\n",
       "      <th>8</th>\n",
       "      <td>spam</td>\n",
       "      <td>WINNER!! As a valued network customer you have...</td>\n",
       "    </tr>\n",
       "    <tr>\n",
       "      <th>9</th>\n",
       "      <td>spam</td>\n",
       "      <td>Had your mobile 11 months or more? U R entitle...</td>\n",
       "    </tr>\n",
       "    <tr>\n",
       "      <th>11</th>\n",
       "      <td>spam</td>\n",
       "      <td>SIX chances to win CASH! From 100 to 20,000 po...</td>\n",
       "    </tr>\n",
       "    <tr>\n",
       "      <th>...</th>\n",
       "      <td>...</td>\n",
       "      <td>...</td>\n",
       "    </tr>\n",
       "    <tr>\n",
       "      <th>5537</th>\n",
       "      <td>spam</td>\n",
       "      <td>Want explicit SEX in 30 secs? Ring 02073162414...</td>\n",
       "    </tr>\n",
       "    <tr>\n",
       "      <th>5540</th>\n",
       "      <td>spam</td>\n",
       "      <td>ASKED 3MOBILE IF 0870 CHATLINES INCLU IN FREE ...</td>\n",
       "    </tr>\n",
       "    <tr>\n",
       "      <th>5547</th>\n",
       "      <td>spam</td>\n",
       "      <td>Had your contract mobile 11 Mnths? Latest Moto...</td>\n",
       "    </tr>\n",
       "    <tr>\n",
       "      <th>5566</th>\n",
       "      <td>spam</td>\n",
       "      <td>REMINDER FROM O2: To get 2.50 pounds free call...</td>\n",
       "    </tr>\n",
       "    <tr>\n",
       "      <th>5567</th>\n",
       "      <td>spam</td>\n",
       "      <td>This is the 2nd time we have tried 2 contact u...</td>\n",
       "    </tr>\n",
       "  </tbody>\n",
       "</table>\n",
       "<p>747 rows × 2 columns</p>\n",
       "</div>"
      ],
      "text/plain": [
       "     Category                                            Message\n",
       "2        spam  Free entry in 2 a wkly comp to win FA Cup fina...\n",
       "5        spam  FreeMsg Hey there darling it's been 3 week's n...\n",
       "8        spam  WINNER!! As a valued network customer you have...\n",
       "9        spam  Had your mobile 11 months or more? U R entitle...\n",
       "11       spam  SIX chances to win CASH! From 100 to 20,000 po...\n",
       "...       ...                                                ...\n",
       "5537     spam  Want explicit SEX in 30 secs? Ring 02073162414...\n",
       "5540     spam  ASKED 3MOBILE IF 0870 CHATLINES INCLU IN FREE ...\n",
       "5547     spam  Had your contract mobile 11 Mnths? Latest Moto...\n",
       "5566     spam  REMINDER FROM O2: To get 2.50 pounds free call...\n",
       "5567     spam  This is the 2nd time we have tried 2 contact u...\n",
       "\n",
       "[747 rows x 2 columns]"
      ]
     },
     "execution_count": 9,
     "metadata": {},
     "output_type": "execute_result"
    }
   ],
   "source": [
    "spams"
   ]
  },
  {
   "cell_type": "code",
   "execution_count": 10,
   "metadata": {},
   "outputs": [
    {
     "data": {
      "text/plain": [
       "(747, 2)"
      ]
     },
     "execution_count": 10,
     "metadata": {},
     "output_type": "execute_result"
    }
   ],
   "source": [
    "spams.shape"
   ]
  },
  {
   "cell_type": "code",
   "execution_count": 11,
   "metadata": {},
   "outputs": [],
   "source": [
    "spams=spams.sample(100)"
   ]
  },
  {
   "cell_type": "code",
   "execution_count": 12,
   "metadata": {},
   "outputs": [
    {
     "data": {
      "text/plain": [
       "(100, 2)"
      ]
     },
     "execution_count": 12,
     "metadata": {},
     "output_type": "execute_result"
    }
   ],
   "source": [
    "spams.shape"
   ]
  },
  {
   "cell_type": "code",
   "execution_count": 13,
   "metadata": {},
   "outputs": [],
   "source": [
    "hams=df[df['Category']=='ham']"
   ]
  },
  {
   "cell_type": "code",
   "execution_count": 14,
   "metadata": {},
   "outputs": [
    {
     "data": {
      "text/plain": [
       "(4825, 2)"
      ]
     },
     "execution_count": 14,
     "metadata": {},
     "output_type": "execute_result"
    }
   ],
   "source": [
    "hams.shape"
   ]
  },
  {
   "cell_type": "code",
   "execution_count": 15,
   "metadata": {},
   "outputs": [],
   "source": [
    "hams=hams.sample(spams.shape[0])"
   ]
  },
  {
   "cell_type": "code",
   "execution_count": 16,
   "metadata": {},
   "outputs": [
    {
     "data": {
      "text/plain": [
       "(100, 2)"
      ]
     },
     "execution_count": 16,
     "metadata": {},
     "output_type": "execute_result"
    }
   ],
   "source": [
    "hams.shape"
   ]
  },
  {
   "cell_type": "code",
   "execution_count": 17,
   "metadata": {},
   "outputs": [],
   "source": [
    "balanced_df=pd.concat([spams,hams])"
   ]
  },
  {
   "cell_type": "code",
   "execution_count": 18,
   "metadata": {},
   "outputs": [
    {
     "data": {
      "text/plain": [
       "Category\n",
       "spam    100\n",
       "ham     100\n",
       "Name: count, dtype: int64"
      ]
     },
     "execution_count": 18,
     "metadata": {},
     "output_type": "execute_result"
    }
   ],
   "source": [
    "balanced_df.Category.value_counts()"
   ]
  },
  {
   "cell_type": "code",
   "execution_count": 19,
   "metadata": {},
   "outputs": [
    {
     "data": {
      "text/plain": [
       "<Axes: xlabel='Category', ylabel='count'>"
      ]
     },
     "execution_count": 19,
     "metadata": {},
     "output_type": "execute_result"
    },
    {
     "data": {
      "image/png": "[encoded data removed]",
      "text/plain": [
       "<Figure size 640x480 with 1 Axes>"
      ]
     },
     "metadata": {},
     "output_type": "display_data"
    }
   ],
   "source": [
    "sns.countplot(x=df['Category'])"
   ]
  },
  {
   "cell_type": "code",
   "execution_count": 20,
   "metadata": {},
   "outputs": [
    {
     "data": {
      "text/plain": [
       "<Axes: xlabel='Category', ylabel='count'>"
      ]
     },
     "execution_count": 20,
     "metadata": {},
     "output_type": "execute_result"
    },
    {
     "data": {
      "image/png": "[encoded data removed]",
      "text/plain": [
       "<Figure size 640x480 with 1 Axes>"
      ]
     },
     "metadata": {},
     "output_type": "display_data"
    }
   ],
   "source": [
    "sns.countplot(x=balanced_df['Category'])"
   ]
  },
  {
   "cell_type": "code",
   "execution_count": 21,
   "metadata": {},
   "outputs": [],
   "source": [
    "balanced_df['spam']=balanced_df.Category.apply(lambda x:1 if x=='spam' else 0)"
   ]
  },
  {
   "cell_type": "code",
   "execution_count": 22,
   "metadata": {},
   "outputs": [
    {
     "data": {
      "text/html": [
       "<div>\n",
       "<style scoped>\n",
       "    .dataframe tbody tr th:only-of-type {\n",
       "        vertical-align: middle;\n",
       "    }\n",
       "\n",
       "    .dataframe tbody tr th {\n",
       "        vertical-align: top;\n",
       "    }\n",
       "\n",
       "    .dataframe thead th {\n",
       "        text-align: right;\n",
       "    }\n",
       "</style>\n",
       "<table border=\"1\" class=\"dataframe\">\n",
       "  <thead>\n",
       "    <tr style=\"text-align: right;\">\n",
       "      <th></th>\n",
       "      <th>Category</th>\n",
       "      <th>Message</th>\n",
       "      <th>spam</th>\n",
       "    </tr>\n",
       "  </thead>\n",
       "  <tbody>\n",
       "    <tr>\n",
       "      <th>4938</th>\n",
       "      <td>ham</td>\n",
       "      <td>G wants to know where the fuck you are</td>\n",
       "      <td>0</td>\n",
       "    </tr>\n",
       "    <tr>\n",
       "      <th>4866</th>\n",
       "      <td>ham</td>\n",
       "      <td>I'm really sorry I lit your hair on fire</td>\n",
       "      <td>0</td>\n",
       "    </tr>\n",
       "    <tr>\n",
       "      <th>1142</th>\n",
       "      <td>spam</td>\n",
       "      <td>I don't know u and u don't know me. Send CHAT ...</td>\n",
       "      <td>1</td>\n",
       "    </tr>\n",
       "    <tr>\n",
       "      <th>3585</th>\n",
       "      <td>spam</td>\n",
       "      <td>Hi 07734396839 IBH Customer Loyalty Offer: The...</td>\n",
       "      <td>1</td>\n",
       "    </tr>\n",
       "    <tr>\n",
       "      <th>3154</th>\n",
       "      <td>ham</td>\n",
       "      <td>I tagged MY friends that you seemed to count a...</td>\n",
       "      <td>0</td>\n",
       "    </tr>\n",
       "    <tr>\n",
       "      <th>1108</th>\n",
       "      <td>ham</td>\n",
       "      <td>From someone not to smoke when every time I've...</td>\n",
       "      <td>0</td>\n",
       "    </tr>\n",
       "    <tr>\n",
       "      <th>107</th>\n",
       "      <td>ham</td>\n",
       "      <td>Aight, I'll hit you up when I get some cash</td>\n",
       "      <td>0</td>\n",
       "    </tr>\n",
       "    <tr>\n",
       "      <th>310</th>\n",
       "      <td>ham</td>\n",
       "      <td>Where are the garage keys? They aren't on the ...</td>\n",
       "      <td>0</td>\n",
       "    </tr>\n",
       "    <tr>\n",
       "      <th>505</th>\n",
       "      <td>spam</td>\n",
       "      <td>#ERROR!</td>\n",
       "      <td>1</td>\n",
       "    </tr>\n",
       "    <tr>\n",
       "      <th>1674</th>\n",
       "      <td>spam</td>\n",
       "      <td>Monthly password for wap. mobsi.com is 391784....</td>\n",
       "      <td>1</td>\n",
       "    </tr>\n",
       "  </tbody>\n",
       "</table>\n",
       "</div>"
      ],
      "text/plain": [
       "     Category                                            Message  spam\n",
       "4938      ham             G wants to know where the fuck you are     0\n",
       "4866      ham           I'm really sorry I lit your hair on fire     0\n",
       "1142     spam  I don't know u and u don't know me. Send CHAT ...     1\n",
       "3585     spam  Hi 07734396839 IBH Customer Loyalty Offer: The...     1\n",
       "3154      ham  I tagged MY friends that you seemed to count a...     0\n",
       "1108      ham  From someone not to smoke when every time I've...     0\n",
       "107       ham        Aight, I'll hit you up when I get some cash     0\n",
       "310       ham  Where are the garage keys? They aren't on the ...     0\n",
       "505      spam                                            #ERROR!     1\n",
       "1674     spam  Monthly password for wap. mobsi.com is 391784....     1"
      ]
     },
     "execution_count": 22,
     "metadata": {},
     "output_type": "execute_result"
    }
   ],
   "source": [
    "balanced_df.sample(10)"
   ]
  },
  {
   "cell_type": "code",
   "execution_count": 23,
   "metadata": {},
   "outputs": [],
   "source": [
    "encoder_url=\"https://tfhub.dev/tensorflow/bert_en_uncased_L-12_H-768_A-12/4\"\n",
    "preprocess_url=\"https://tfhub.dev/tensorflow/bert_en_uncased_preprocess/3\""
   ]
  },
  {
   "cell_type": "code",
   "execution_count": 24,
   "metadata": {},
   "outputs": [
    {
     "name": "stdout",
     "output_type": "stream",
     "text": [
      "Metal device set to: Apple M1 Max\n",
      "\n",
      "systemMemory: 32.00 GB\n",
      "maxCacheSize: 10.67 GB\n",
      "\n"
     ]
    },
    {
     "name": "stderr",
     "output_type": "stream",
     "text": [
      "2023-06-30 10:18:50.612470: W tensorflow/tsl/platform/profile_utils/cpu_utils.cc:128] Failed to get CPU frequency: 0 Hz\n"
     ]
    }
   ],
   "source": [
    "bert_prepross_model=hub.KerasLayer(preprocess_url)\n",
    "bert_encoder_model=hub.KerasLayer(encoder_url)"
   ]
  },
  {
   "cell_type": "code",
   "execution_count": 47,
   "metadata": {},
   "outputs": [],
   "source": [
    "corpus=[\"Hello Mohamed, how are you\",\"win 300$ by calling this number\"]\n",
    "preprocessed_emails=bert_prepross_model(emails)\n",
    "encoded_emails=bert_encoder_model(preprocessed_emails)"
   ]
  },
  {
   "cell_type": "code",
   "execution_count": 48,
   "metadata": {},
   "outputs": [
    {
     "data": {
      "text/plain": [
       "dict_keys(['input_type_ids', 'input_mask', 'input_word_ids'])"
      ]
     },
     "execution_count": 48,
     "metadata": {},
     "output_type": "execute_result"
    }
   ],
   "source": [
    "preprocessed_emails.keys()"
   ]
  },
  {
   "cell_type": "code",
   "execution_count": 49,
   "metadata": {},
   "outputs": [
    {
     "data": {
      "text/plain": [
       "<tf.Tensor: shape=(2, 128), dtype=int32, numpy=\n",
       "array([[  101,  7592, 14467,  1010,  2129,  2024,  2017,   102,     0,\n",
       "            0,     0,     0,     0,     0,     0,     0,     0,     0,\n",
       "            0,     0,     0,     0,     0,     0,     0,     0,     0,\n",
       "            0,     0,     0,     0,     0,     0,     0,     0,     0,\n",
       "            0,     0,     0,     0,     0,     0,     0,     0,     0,\n",
       "            0,     0,     0,     0,     0,     0,     0,     0,     0,\n",
       "            0,     0,     0,     0,     0,     0,     0,     0,     0,\n",
       "            0,     0,     0,     0,     0,     0,     0,     0,     0,\n",
       "            0,     0,     0,     0,     0,     0,     0,     0,     0,\n",
       "            0,     0,     0,     0,     0,     0,     0,     0,     0,\n",
       "            0,     0,     0,     0,     0,     0,     0,     0,     0,\n",
       "            0,     0,     0,     0,     0,     0,     0,     0,     0,\n",
       "            0,     0,     0,     0,     0,     0,     0,     0,     0,\n",
       "            0,     0,     0,     0,     0,     0,     0,     0,     0,\n",
       "            0,     0],\n",
       "       [  101,  2663,  3998,  1002,  2011,  4214,  2023,  2193,   102,\n",
       "            0,     0,     0,     0,     0,     0,     0,     0,     0,\n",
       "            0,     0,     0,     0,     0,     0,     0,     0,     0,\n",
       "            0,     0,     0,     0,     0,     0,     0,     0,     0,\n",
       "            0,     0,     0,     0,     0,     0,     0,     0,     0,\n",
       "            0,     0,     0,     0,     0,     0,     0,     0,     0,\n",
       "            0,     0,     0,     0,     0,     0,     0,     0,     0,\n",
       "            0,     0,     0,     0,     0,     0,     0,     0,     0,\n",
       "            0,     0,     0,     0,     0,     0,     0,     0,     0,\n",
       "            0,     0,     0,     0,     0,     0,     0,     0,     0,\n",
       "            0,     0,     0,     0,     0,     0,     0,     0,     0,\n",
       "            0,     0,     0,     0,     0,     0,     0,     0,     0,\n",
       "            0,     0,     0,     0,     0,     0,     0,     0,     0,\n",
       "            0,     0,     0,     0,     0,     0,     0,     0,     0,\n",
       "            0,     0]], dtype=int32)>"
      ]
     },
     "execution_count": 49,
     "metadata": {},
     "output_type": "execute_result"
    }
   ],
   "source": [
    "preprocessed_emails['input_word_ids']"
   ]
  },
  {
   "cell_type": "code",
   "execution_count": 50,
   "metadata": {},
   "outputs": [
    {
     "data": {
      "text/plain": [
       "<tf.Tensor: shape=(2, 128), dtype=int32, numpy=\n",
       "array([[1, 1, 1, 1, 1, 1, 1, 1, 0, 0, 0, 0, 0, 0, 0, 0, 0, 0, 0, 0, 0, 0,\n",
       "        0, 0, 0, 0, 0, 0, 0, 0, 0, 0, 0, 0, 0, 0, 0, 0, 0, 0, 0, 0, 0, 0,\n",
       "        0, 0, 0, 0, 0, 0, 0, 0, 0, 0, 0, 0, 0, 0, 0, 0, 0, 0, 0, 0, 0, 0,\n",
       "        0, 0, 0, 0, 0, 0, 0, 0, 0, 0, 0, 0, 0, 0, 0, 0, 0, 0, 0, 0, 0, 0,\n",
       "        0, 0, 0, 0, 0, 0, 0, 0, 0, 0, 0, 0, 0, 0, 0, 0, 0, 0, 0, 0, 0, 0,\n",
       "        0, 0, 0, 0, 0, 0, 0, 0, 0, 0, 0, 0, 0, 0, 0, 0, 0, 0],\n",
       "       [1, 1, 1, 1, 1, 1, 1, 1, 1, 0, 0, 0, 0, 0, 0, 0, 0, 0, 0, 0, 0, 0,\n",
       "        0, 0, 0, 0, 0, 0, 0, 0, 0, 0, 0, 0, 0, 0, 0, 0, 0, 0, 0, 0, 0, 0,\n",
       "        0, 0, 0, 0, 0, 0, 0, 0, 0, 0, 0, 0, 0, 0, 0, 0, 0, 0, 0, 0, 0, 0,\n",
       "        0, 0, 0, 0, 0, 0, 0, 0, 0, 0, 0, 0, 0, 0, 0, 0, 0, 0, 0, 0, 0, 0,\n",
       "        0, 0, 0, 0, 0, 0, 0, 0, 0, 0, 0, 0, 0, 0, 0, 0, 0, 0, 0, 0, 0, 0,\n",
       "        0, 0, 0, 0, 0, 0, 0, 0, 0, 0, 0, 0, 0, 0, 0, 0, 0, 0]],\n",
       "      dtype=int32)>"
      ]
     },
     "execution_count": 50,
     "metadata": {},
     "output_type": "execute_result"
    }
   ],
   "source": [
    "preprocessed_emails['input_mask']"
   ]
  },
  {
   "cell_type": "code",
   "execution_count": 51,
   "metadata": {},
   "outputs": [
    {
     "data": {
      "text/plain": [
       "dict_keys(['pooled_output', 'sequence_output', 'encoder_outputs', 'default'])"
      ]
     },
     "execution_count": 51,
     "metadata": {},
     "output_type": "execute_result"
    }
   ],
   "source": [
    "encoded_emails.keys()"
   ]
  },
  {
   "cell_type": "code",
   "execution_count": 52,
   "metadata": {},
   "outputs": [
    {
     "data": {
      "text/plain": [
       "12"
      ]
     },
     "execution_count": 52,
     "metadata": {},
     "output_type": "execute_result"
    }
   ],
   "source": [
    "len(encoded_emails['encoder_outputs'])"
   ]
  },
  {
   "cell_type": "code",
   "execution_count": 53,
   "metadata": {},
   "outputs": [
    {
     "data": {
      "text/plain": [
       "<tf.Tensor: shape=(2, 768), dtype=float32, numpy=\n",
       "array([[-0.90182185, -0.5748827 , -0.9752484 , ..., -0.9473581 ,\n",
       "        -0.75805026,  0.9121673 ],\n",
       "       [-0.82535243, -0.45067352, -0.31890285, ..., -0.15214133,\n",
       "        -0.6827613 ,  0.85599077]], dtype=float32)>"
      ]
     },
     "execution_count": 53,
     "metadata": {},
     "output_type": "execute_result"
    }
   ],
   "source": [
    "encoded_emails['pooled_output']"
   ]
  },
  {
   "cell_type": "code",
   "execution_count": 54,
   "metadata": {},
   "outputs": [
    {
     "data": {
      "text/plain": [
       "<tf.Tensor: shape=(2, 128, 768), dtype=bool, numpy=\n",
       "array([[[ True,  True,  True, ...,  True,  True,  True],\n",
       "        [ True,  True,  True, ...,  True,  True,  True],\n",
       "        [ True,  True,  True, ...,  True,  True,  True],\n",
       "        ...,\n",
       "        [ True,  True,  True, ...,  True,  True,  True],\n",
       "        [ True,  True,  True, ...,  True,  True,  True],\n",
       "        [ True,  True,  True, ...,  True,  True,  True]],\n",
       "\n",
       "       [[ True,  True,  True, ...,  True,  True,  True],\n",
       "        [ True,  True,  True, ...,  True,  True,  True],\n",
       "        [ True,  True,  True, ...,  True,  True,  True],\n",
       "        ...,\n",
       "        [ True,  True,  True, ...,  True,  True,  True],\n",
       "        [ True,  True,  True, ...,  True,  True,  True],\n",
       "        [ True,  True,  True, ...,  True,  True,  True]]])>"
      ]
     },
     "execution_count": 54,
     "metadata": {},
     "output_type": "execute_result"
    }
   ],
   "source": [
    "encoded_emails['encoder_outputs'][-1]==encoded_emails['sequence_output']"
   ]
  },
  {
   "cell_type": "code",
   "execution_count": 38,
   "metadata": {},
   "outputs": [
    {
     "data": {
      "text/plain": [
       "<tf.Tensor: shape=(2, 128, 768), dtype=float32, numpy=\n",
       "array([[[-0.03514772, -0.1319784 ,  0.14726344, ..., -0.19218673,\n",
       "          0.34064415,  0.63847065],\n",
       "        [ 0.21122062,  0.06696482,  0.4008923 , ..., -0.21089952,\n",
       "          0.94867015,  0.00320228],\n",
       "        [ 0.711871  , -0.22913232, -0.02138554, ..., -0.28345302,\n",
       "          0.13508263, -0.2906294 ],\n",
       "        ...,\n",
       "        [-0.21393436,  0.15879564,  0.7211592 , ...,  0.05380814,\n",
       "          0.0510683 , -0.0715643 ],\n",
       "        [ 0.04716092, -0.06260935,  0.68938553, ...,  0.06296109,\n",
       "          0.13212484, -0.12008545],\n",
       "        [-0.1989959 ,  0.09340785,  0.7104369 , ...,  0.09575574,\n",
       "          0.03469355, -0.13842086]],\n",
       "\n",
       "       [[-0.29152364,  0.23840849,  0.02896825, ..., -0.40450716,\n",
       "          0.00437994,  0.7639582 ],\n",
       "        [ 0.09805386,  0.35679987,  0.31540883, ..., -0.29645297,\n",
       "          0.357851  ,  0.9869275 ],\n",
       "        [ 0.5439975 , -0.12458397,  0.43267852, ..., -0.76643413,\n",
       "         -0.15341686,  0.21542758],\n",
       "        ...,\n",
       "        [-0.29174408,  0.08682576,  0.36885375, ..., -0.20553014,\n",
       "          0.01555726,  0.33388004],\n",
       "        [-0.24795729, -0.02352712,  0.33112484, ..., -0.12306108,\n",
       "          0.01214391,  0.29802275],\n",
       "        [-0.12712021,  0.13025472,  0.45532513, ..., -0.19435164,\n",
       "         -0.0361535 ,  0.38776833]]], dtype=float32)>"
      ]
     },
     "execution_count": 38,
     "metadata": {},
     "output_type": "execute_result"
    }
   ],
   "source": [
    "encoded_emails['sequence_output']"
   ]
  },
  {
   "cell_type": "code",
   "execution_count": 75,
   "metadata": {},
   "outputs": [],
   "source": [
    "simple_text=[\"Tim\",\"Bill\",\"Bananas\",\"Mango\"]\n",
    "encoded_simple_text=bert_encoder_model(bert_prepross_model(simple_text))['pooled_output']"
   ]
  },
  {
   "cell_type": "code",
   "execution_count": 63,
   "metadata": {},
   "outputs": [
    {
     "data": {
      "text/plain": [
       "<tf.Tensor: shape=(768,), dtype=float32, numpy=\n",
       "array([-0.84417486, -0.36974958, -0.03477198,  0.7021635 , -0.27998284,\n",
       "       -0.20972158,  0.8758056 ,  0.30156925, -0.05036598, -0.9999318 ,\n",
       "        0.11804488,  0.44203478,  0.97411615,  0.12546895,  0.88397145,\n",
       "       -0.61814374, -0.1323358 , -0.5519742 ,  0.52029896, -0.7129428 ,\n",
       "        0.5851807 ,  0.98827946,  0.3647321 ,  0.30239585,  0.44862083,\n",
       "        0.6226656 , -0.6277767 ,  0.87157255,  0.9327473 ,  0.7214598 ,\n",
       "       -0.6894877 ,  0.24255674, -0.9774239 , -0.3141651 , -0.11533179,\n",
       "       -0.98531103,  0.32528925, -0.7033812 , -0.12899059, -0.12066813,\n",
       "       -0.7829444 ,  0.36825612,  0.999046  ,  0.0088521 , -0.12355988,\n",
       "       -0.39510477, -0.99997145,  0.34166747, -0.8361411 ,  0.1454971 ,\n",
       "       -0.03883848, -0.08625295,  0.19707331,  0.45343015,  0.44161892,\n",
       "        0.18655218,  0.0027211 ,  0.24296859, -0.21087407, -0.57541394,\n",
       "       -0.53812784,  0.3260758 , -0.25619483, -0.87584543, -0.0433472 ,\n",
       "       -0.21323536, -0.24859813, -0.31560504, -0.12458695, -0.00275684,\n",
       "        0.8362613 ,  0.28992715,  0.09575862, -0.67868036, -0.04458321,\n",
       "        0.2205408 , -0.5530236 ,  1.        , -0.43007007, -0.9590226 ,\n",
       "       -0.11885145,  0.12926893,  0.42716157,  0.33744192, -0.04725636,\n",
       "       -0.9999992 ,  0.34477872, -0.26434404, -0.9815726 ,  0.34734482,\n",
       "        0.31212202, -0.1951767 , -0.31742188,  0.45502755, -0.35563594,\n",
       "       -0.24321507, -0.33271894,  0.00719671, -0.2859705 , -0.11176419,\n",
       "        0.18169805, -0.37596628, -0.09609755, -0.41703925,  0.20752284,\n",
       "       -0.47232297, -0.3586448 ,  0.47074556, -0.16576678,  0.6465524 ,\n",
       "        0.3232269 , -0.3299102 ,  0.3964404 , -0.94907093,  0.6436996 ,\n",
       "       -0.33585027, -0.97233015, -0.5000216 , -0.978599  ,  0.69684404,\n",
       "       -0.01144741, -0.2353828 ,  0.93517596,  0.48425552,  0.31036058,\n",
       "       -0.18670782, -0.1934041 , -1.        , -0.39187688, -0.26038545,\n",
       "       -0.08636402, -0.17672375, -0.9585809 , -0.90899765,  0.620225  ,\n",
       "        0.92851514,  0.16527632,  0.99735665, -0.3967444 ,  0.9089282 ,\n",
       "        0.00789041, -0.45218897, -0.11179043, -0.4252902 ,  0.34600216,\n",
       "        0.27175453, -0.61557454,  0.33441693, -0.07108201,  0.1049431 ,\n",
       "       -0.14755887, -0.44977808,  0.08657096, -0.86374205, -0.45004717,\n",
       "        0.93128544,  0.01045004, -0.23439772,  0.48233533, -0.3762025 ,\n",
       "       -0.407575  ,  0.7837426 ,  0.2874331 ,  0.46296588, -0.07688268,\n",
       "        0.48505706,  0.08142745,  0.45066163, -0.8086777 ,  0.04898598,\n",
       "        0.48962188, -0.37929553, -0.03025479, -0.95862937, -0.42025965,\n",
       "        0.4859447 ,  0.97532284,  0.74422866,  0.27366874,  0.3576673 ,\n",
       "       -0.25325572,  0.36045533, -0.91832364,  0.95800054, -0.29832107,\n",
       "        0.3536308 ,  0.4494419 , -0.03096059, -0.80353755, -0.3568429 ,\n",
       "        0.8144531 , -0.04512731, -0.7711743 , -0.01797958, -0.51873356,\n",
       "       -0.49240026, -0.01747265,  0.53262395, -0.34876433, -0.44740638,\n",
       "       -0.05442708,  0.85008115,  0.969482  ,  0.67377627, -0.42044747,\n",
       "        0.5238484 , -0.88937324, -0.38760462,  0.26712885,  0.37488106,\n",
       "        0.27946076,  0.9855412 , -0.10495713, -0.19531885, -0.8635702 ,\n",
       "       -0.97443575,  0.18790977, -0.8313823 , -0.14421804, -0.6494611 ,\n",
       "        0.414109  ,  0.5616087 ,  0.08051166,  0.42098475, -0.968724  ,\n",
       "       -0.75520325,  0.357746  , -0.35253292,  0.44082445, -0.24279118,\n",
       "       -0.09862658,  0.27662006, -0.49479225,  0.6451313 ,  0.85549384,\n",
       "        0.08105524, -0.57436234,  0.81385314, -0.2951763 ,  0.845117  ,\n",
       "       -0.67029786,  0.97951573,  0.3012854 ,  0.34565797, -0.9063244 ,\n",
       "        0.09300894, -0.88457143, -0.09656454, -0.19591312, -0.45044386,\n",
       "        0.14570534,  0.46270862,  0.3859289 ,  0.60159564, -0.5558671 ,\n",
       "        0.9947978 ,  0.02369952, -0.9232104 ,  0.30274522, -0.2695544 ,\n",
       "       -0.9708505 , -0.00344361,  0.3603511 , -0.4963394 , -0.40629065,\n",
       "       -0.44216207, -0.90416664,  0.88981587,  0.24151975,  0.9858122 ,\n",
       "        0.16344655, -0.8820643 , -0.42649695, -0.8361343 , -0.02207071,\n",
       "       -0.15647514,  0.4137202 ,  0.02815415, -0.9363851 ,  0.52517027,\n",
       "        0.48985994,  0.44394568,  0.11186864,  0.99409616,  0.9998405 ,\n",
       "        0.95131785,  0.837561  ,  0.84502995, -0.9541039 ,  0.11713973,\n",
       "        0.99996847, -0.6816153 , -0.9999966 , -0.9183489 , -0.5558255 ,\n",
       "        0.35859644, -1.        , -0.17306288, -0.16297922, -0.85895216,\n",
       "       -0.07084281,  0.9612505 ,  0.98013717, -0.9999998 ,  0.76923096,\n",
       "        0.92184603, -0.5716064 ,  0.28159907, -0.24929734,  0.96116155,\n",
       "        0.28799045,  0.28782052, -0.35603428,  0.34752792, -0.34424195,\n",
       "       -0.8278029 ,  0.22012831,  0.15467884,  0.7447226 ,  0.24995728,\n",
       "       -0.71986747, -0.89799404, -0.14845155, -0.1990733 , -0.17490494,\n",
       "       -0.9237091 , -0.28736493, -0.11349221,  0.5681952 ,  0.12129747,\n",
       "        0.22746803, -0.7760266 ,  0.24450205, -0.5561874 ,  0.2952    ,\n",
       "        0.59717715, -0.93018603, -0.6265167 , -0.39813197, -0.3024045 ,\n",
       "       -0.01303561, -0.930793  ,  0.9510855 , -0.45828438,  0.42163268,\n",
       "        1.        , -0.144436  , -0.83718526,  0.42598715,  0.2435742 ,\n",
       "       -0.0132428 ,  0.9999998 ,  0.5294917 , -0.95988464, -0.5018594 ,\n",
       "        0.43546134, -0.44225502, -0.46564138,  0.99832   , -0.1831271 ,\n",
       "        0.10326107,  0.38755897,  0.95338726, -0.9786231 ,  0.63449425,\n",
       "       -0.87974095, -0.93383044,  0.9362099 ,  0.8785457 , -0.11096869,\n",
       "       -0.58273524,  0.18894869, -0.24483408,  0.3370191 , -0.93852204,\n",
       "        0.685168  ,  0.43804076, -0.25271696,  0.8664972 , -0.80906653,\n",
       "       -0.492777  ,  0.46809387, -0.16097881,  0.0708667 ,  0.09799463,\n",
       "        0.5299499 , -0.34864897,  0.21357052, -0.40790838,  0.33051854,\n",
       "       -0.94989026,  0.05879665,  0.99999964, -0.1955377 , -0.45834586,\n",
       "       -0.31871724, -0.19196051, -0.17100161,  0.3926248 ,  0.47828802,\n",
       "       -0.4100655 , -0.7710537 , -0.10229874, -0.878256  , -0.97341937,\n",
       "        0.64687735,  0.34598094, -0.34383184,  0.99955046,  0.26530856,\n",
       "        0.2776814 , -0.0980267 ,  0.4470907 ,  0.15113688,  0.5198768 ,\n",
       "       -0.12849015,  0.9492071 , -0.26758876,  0.4584599 ,  0.8010066 ,\n",
       "       -0.07460471, -0.28108552, -0.65588224,  0.12315608, -0.8531409 ,\n",
       "       -0.08695062, -0.9369241 ,  0.9376725 ,  0.21356933,  0.34574127,\n",
       "        0.16901484, -0.03560706,  0.9999999 ,  0.24348824,  0.5521365 ,\n",
       "       -0.5253653 ,  0.8243481 , -0.8880558 , -0.65402955, -0.46134904,\n",
       "       -0.1729807 ,  0.00554739, -0.20306605,  0.32392386, -0.951486  ,\n",
       "        0.07221951,  0.11491512, -0.9531321 , -0.9861359 ,  0.39044622,\n",
       "        0.78960395,  0.25490144, -0.49327752, -0.63795406, -0.5581494 ,\n",
       "        0.25465024, -0.24659571, -0.91549766,  0.3310781 , -0.2852734 ,\n",
       "        0.47323436, -0.33016494,  0.47864783, -0.03092797,  0.7011963 ,\n",
       "        0.47955653, -0.00266099, -0.183562  , -0.8087564 ,  0.69698197,\n",
       "       -0.78530556, -0.2333853 , -0.22467257,  1.        , -0.3665008 ,\n",
       "        0.01551074,  0.7070411 ,  0.6294171 , -0.24745294,  0.32569242,\n",
       "        0.1952462 ,  0.21893468,  0.04388989,  0.15217228, -0.766688  ,\n",
       "       -0.35748625,  0.3734632 , -0.4716882 , -0.00994598,  0.6437258 ,\n",
       "       -0.0079937 ,  0.2200419 , -0.0165497 ,  0.2053965 ,  0.997753  ,\n",
       "       -0.32385305, -0.1144802 , -0.5436151 , -0.14840935, -0.40700215,\n",
       "       -0.5112687 ,  0.99999785,  0.41520733,  0.05860453, -0.98550415,\n",
       "        0.08071212, -0.9245343 ,  0.99930775,  0.7306571 , -0.8246992 ,\n",
       "        0.48996076,  0.37950572, -0.28220233,  0.72636414, -0.29353237,\n",
       "       -0.28978315,  0.2048548 ,  0.18509069,  0.9479375 , -0.3817489 ,\n",
       "       -0.9218778 , -0.5488041 ,  0.44062263, -0.9130581 ,  0.95213574,\n",
       "       -0.5438316 , -0.23925212, -0.23550409,  0.14265034,  0.77776295,\n",
       "        0.18519513, -0.95597035, -0.2968561 ,  0.00757856,  0.9479458 ,\n",
       "        0.27885255, -0.4839758 , -0.8780149 , -0.05381382,  0.01189754,\n",
       "        0.1485818 , -0.9052746 ,  0.9497314 , -0.9709598 ,  0.34144717,\n",
       "        0.99999624,  0.3436756 , -0.43919158,  0.23937961, -0.38812512,\n",
       "        0.31121987,  0.15689862,  0.40688142, -0.90277326, -0.30333897,\n",
       "       -0.27545992,  0.41992024, -0.27336854,  0.09080999,  0.6228766 ,\n",
       "        0.19625725, -0.45045063, -0.535961  , -0.18857439,  0.45893687,\n",
       "        0.7929966 , -0.38186604, -0.19812675,  0.18258244, -0.12322772,\n",
       "       -0.9070213 , -0.36094958, -0.37846953, -0.99399215,  0.6192104 ,\n",
       "       -0.99999994, -0.06810361, -0.26181647, -0.28602177,  0.76409245,\n",
       "       -0.16870593, -0.02578636, -0.55477977,  0.00964692,  0.7265576 ,\n",
       "        0.7035975 , -0.31927925, -0.20876719, -0.7326617 ,  0.2899755 ,\n",
       "       -0.11579617,  0.27791363, -0.19978128,  0.7510345 , -0.13196836,\n",
       "        1.        ,  0.11210328, -0.4921267 , -0.9406286 ,  0.3984439 ,\n",
       "       -0.37007105,  0.99990296, -0.8706227 , -0.9080727 ,  0.32883853,\n",
       "       -0.4170482 , -0.7448317 ,  0.24984223,  0.1037778 , -0.5836738 ,\n",
       "       -0.32474136,  0.9246046 ,  0.8839281 , -0.4487744 ,  0.35694158,\n",
       "       -0.3685441 , -0.41032237,  0.26435754, -0.00372646,  0.97365236,\n",
       "        0.05999435,  0.81595933,  0.36172247,  0.244362  ,  0.90926325,\n",
       "        0.23386016,  0.68141633,  0.25365317,  0.99999815,  0.33875018,\n",
       "       -0.8974594 ,  0.24468821, -0.9655691 , -0.2366277 , -0.9237361 ,\n",
       "        0.3655658 ,  0.16973116,  0.82004625, -0.3181051 ,  0.9404178 ,\n",
       "        0.18556038,  0.14097689, -0.04417818,  0.3016689 ,  0.411567  ,\n",
       "       -0.8798115 , -0.97611684, -0.9813477 ,  0.3513654 , -0.44465336,\n",
       "       -0.09347288,  0.41551876,  0.25073427,  0.48576322,  0.4836359 ,\n",
       "       -0.9999962 ,  0.9256819 ,  0.45905602,  0.14644134,  0.93807626,\n",
       "        0.3494376 ,  0.23013614,  0.31418416, -0.9762509 , -0.92936766,\n",
       "       -0.42041585, -0.31043726,  0.76846033,  0.6227498 ,  0.71393806,\n",
       "        0.4237607 , -0.53895676, -0.06623845,  0.3567641 , -0.03812898,\n",
       "       -0.9821044 ,  0.46882468,  0.03951429, -0.95316315,  0.93260974,\n",
       "       -0.43757832, -0.22161163,  0.4710426 , -0.07809395,  0.9258007 ,\n",
       "        0.7778862 ,  0.5327332 ,  0.27271685,  0.5626881 ,  0.8580933 ,\n",
       "        0.9407511 ,  0.9813177 , -0.20651226,  0.75648534,  0.00171302,\n",
       "        0.34136525,  0.14329028, -0.9138102 ,  0.24530518,  0.01430013,\n",
       "       -0.17094101,  0.31734285, -0.1896445 , -0.9354353 ,  0.4848321 ,\n",
       "       -0.191356  ,  0.46294418, -0.43486255, -0.02514879, -0.45755452,\n",
       "       -0.2668704 , -0.6063423 , -0.4388862 ,  0.5443222 ,  0.34543514,\n",
       "        0.8759376 ,  0.14792909, -0.13203317, -0.5728216 , -0.1930292 ,\n",
       "       -0.06791107, -0.8710067 ,  0.8821879 , -0.09224171,  0.15858854,\n",
       "       -0.3818515 ,  0.08239613,  0.58934844, -0.17071012, -0.36530802,\n",
       "       -0.3858541 , -0.7126402 ,  0.83203274, -0.10119368, -0.5619275 ,\n",
       "       -0.45127013,  0.6437493 ,  0.44516513,  0.9898621 , -0.03856501,\n",
       "       -0.10615394, -0.0084636 , -0.25702557,  0.37544808, -0.28712344,\n",
       "       -0.9999964 ,  0.44330606, -0.14897856,  0.0108067 ,  0.12345563,\n",
       "       -0.12257393, -0.3714596 , -0.96219724, -0.26205283, -0.28318563,\n",
       "       -0.11787406, -0.57389045, -0.45421815,  0.49594408,  0.01278055,\n",
       "        0.41045818,  0.85974115, -0.32752982,  0.4454454 ,  0.52013975,\n",
       "        0.1974729 , -0.6051293 ,  0.8122199 ], dtype=float32)>"
      ]
     },
     "execution_count": 63,
     "metadata": {},
     "output_type": "execute_result"
    }
   ],
   "source": [
    "encoded_simple_text[1]"
   ]
  },
  {
   "cell_type": "code",
   "execution_count": 79,
   "metadata": {},
   "outputs": [
    {
     "data": {
      "text/plain": [
       "array([[0.9806396]], dtype=float32)"
      ]
     },
     "execution_count": 79,
     "metadata": {},
     "output_type": "execute_result"
    }
   ],
   "source": [
    "from sklearn.metrics.pairwise import cosine_similarity\n",
    "cosine_similarity([encoded_simple_text[0]],[encoded_simple_text[3]])"
   ]
  },
  {
   "cell_type": "code",
   "execution_count": 67,
   "metadata": {},
   "outputs": [
    {
     "data": {
      "text/plain": [
       "array([[0.99840994]])"
      ]
     },
     "execution_count": 67,
     "metadata": {},
     "output_type": "execute_result"
    }
   ],
   "source": [
    "v1=[[5,7,8,-5]]\n",
    "v2=[[5,8,9,-5]]\n",
    "cosine_similarity(v1,v2)"
   ]
  },
  {
   "cell_type": "code",
   "execution_count": null,
   "metadata": {},
   "outputs": [],
   "source": []
  },
  {
   "cell_type": "code",
   "execution_count": 25,
   "metadata": {},
   "outputs": [],
   "source": [
    "input_layer=tf.keras.Input(shape=(),dtype=tf.dtypes.string,name='input_layer')\n",
    "preprocess_text_layer=bert_prepross_model(input_layer)\n",
    "encoder_layer=bert_encoder_model(preprocess_text_layer)\n",
    "dropout_layer=tf.keras.layers.Dropout(0.1,name='dropout_layer')(encoder_layer['pooled_output'])\n",
    "output_layer=tf.keras.layers.Dense(1,activation='sigmoid',name='output')(dropout_layer)\n",
    "model=tf.keras.Model(inputs=[input_layer], outputs=[output_layer])\n",
    "\n"
   ]
  },
  {
   "cell_type": "code",
   "execution_count": 26,
   "metadata": {},
   "outputs": [
    {
     "name": "stdout",
     "output_type": "stream",
     "text": [
      "Model: \"model\"\n",
      "__________________________________________________________________________________________________\n",
      " Layer (type)                   Output Shape         Param #     Connected to                     \n",
      "==================================================================================================\n",
      " input_layer (InputLayer)       [(None,)]            0           []                               \n",
      "                                                                                                  \n",
      " keras_layer (KerasLayer)       {'input_type_ids':   0           ['input_layer[0][0]']            \n",
      "                                (None, 128),                                                      \n",
      "                                 'input_mask': (Non                                               \n",
      "                                e, 128),                                                          \n",
      "                                 'input_word_ids':                                                \n",
      "                                (None, 128)}                                                      \n",
      "                                                                                                  \n",
      " keras_layer_1 (KerasLayer)     {'pooled_output': (  109482241   ['keras_layer[0][0]',            \n",
      "                                None, 768),                       'keras_layer[0][1]',            \n",
      "                                 'sequence_output':               'keras_layer[0][2]']            \n",
      "                                 (None, 128, 768),                                                \n",
      "                                 'encoder_outputs':                                               \n",
      "                                 [(None, 128, 768),                                               \n",
      "                                 (None, 128, 768),                                                \n",
      "                                 (None, 128, 768),                                                \n",
      "                                 (None, 128, 768),                                                \n",
      "                                 (None, 128, 768),                                                \n",
      "                                 (None, 128, 768),                                                \n",
      "                                 (None, 128, 768),                                                \n",
      "                                 (None, 128, 768),                                                \n",
      "                                 (None, 128, 768),                                                \n",
      "                                 (None, 128, 768),                                                \n",
      "                                 (None, 128, 768),                                                \n",
      "                                 (None, 128, 768)],                                               \n",
      "                                 'default': (None,                                                \n",
      "                                768)}                                                             \n",
      "                                                                                                  \n",
      " dropout_layer (Dropout)        (None, 768)          0           ['keras_layer_1[0][13]']         \n",
      "                                                                                                  \n",
      " output (Dense)                 (None, 1)            769         ['dropout_layer[0][0]']          \n",
      "                                                                                                  \n",
      "==================================================================================================\n",
      "Total params: 109,483,010\n",
      "Trainable params: 769\n",
      "Non-trainable params: 109,482,241\n",
      "__________________________________________________________________________________________________\n"
     ]
    }
   ],
   "source": [
    "model.summary()"
   ]
  },
  {
   "cell_type": "code",
   "execution_count": 27,
   "metadata": {},
   "outputs": [],
   "source": [
    "METRICS=[\n",
    "    tf.keras.metrics.BinaryAccuracy(),\n",
    "    tf.keras.metrics.Precision(),\n",
    "    tf.keras.metrics.Recall()\n",
    "]\n",
    "model.compile(optimizer='adam',loss='binary_crossentropy', metrics=METRICS)"
   ]
  },
  {
   "cell_type": "code",
   "execution_count": 28,
   "metadata": {},
   "outputs": [],
   "source": [
    "from sklearn.model_selection import train_test_split\n",
    "X_train, X_test, Y_train, Y_test = train_test_split(\n",
    "    balanced_df['Message'], \n",
    "    balanced_df['spam'], \n",
    "    stratify=balanced_df['spam'],\n",
    "    test_size=0.2\n",
    "    )"
   ]
  },
  {
   "cell_type": "code",
   "execution_count": 29,
   "metadata": {},
   "outputs": [
    {
     "data": {
      "text/plain": [
       "1673    URGENT! We are trying to contact U. Todays dra...\n",
       "1801    excellent. I spent  &lt;#&gt;  years in the Ai...\n",
       "4394    RECPT 1/3. You have ordered a Ringtone. Your o...\n",
       "3421    As a valued customer, I am pleased to advise y...\n",
       "1108    From someone not to smoke when every time I've...\n",
       "Name: Message, dtype: object"
      ]
     },
     "execution_count": 29,
     "metadata": {},
     "output_type": "execute_result"
    }
   ],
   "source": [
    "X_train.head()"
   ]
  },
  {
   "cell_type": "code",
   "execution_count": 30,
   "metadata": {},
   "outputs": [
    {
     "data": {
      "text/plain": [
       "1673    1\n",
       "1801    0\n",
       "4394    1\n",
       "3421    1\n",
       "1108    0\n",
       "Name: spam, dtype: int64"
      ]
     },
     "execution_count": 30,
     "metadata": {},
     "output_type": "execute_result"
    }
   ],
   "source": [
    "Y_train.head()"
   ]
  },
  {
   "cell_type": "code",
   "execution_count": 31,
   "metadata": {},
   "outputs": [
    {
     "name": "stdout",
     "output_type": "stream",
     "text": [
      "Epoch 1/50\n",
      "4/4 [==============================] - 16s 3s/step - loss: 0.6918 - binary_accuracy: 0.5391 - precision: 0.5417 - recall: 0.4127 - val_loss: 0.6600 - val_binary_accuracy: 0.6250 - val_precision: 0.6000 - val_recall: 0.8824\n",
      "Epoch 2/50\n",
      "4/4 [==============================] - 11s 3s/step - loss: 0.6887 - binary_accuracy: 0.5703 - precision: 0.5513 - recall: 0.6825 - val_loss: 0.6428 - val_binary_accuracy: 0.7188 - val_precision: 0.6538 - val_recall: 1.0000\n",
      "Epoch 3/50\n",
      "4/4 [==============================] - 11s 3s/step - loss: 0.6621 - binary_accuracy: 0.6016 - precision: 0.5938 - recall: 0.6032 - val_loss: 0.6319 - val_binary_accuracy: 0.6562 - val_precision: 0.7143 - val_recall: 0.5882\n",
      "Epoch 4/50\n",
      "4/4 [==============================] - 11s 3s/step - loss: 0.6447 - binary_accuracy: 0.5938 - precision: 0.6486 - recall: 0.3810 - val_loss: 0.6184 - val_binary_accuracy: 0.6562 - val_precision: 0.7143 - val_recall: 0.5882\n",
      "Epoch 5/50\n",
      "4/4 [==============================] - 11s 3s/step - loss: 0.6423 - binary_accuracy: 0.6328 - precision: 0.6176 - recall: 0.6667 - val_loss: 0.6057 - val_binary_accuracy: 0.7188 - val_precision: 0.6538 - val_recall: 1.0000\n",
      "Epoch 6/50\n",
      "4/4 [==============================] - 11s 3s/step - loss: 0.6016 - binary_accuracy: 0.7500 - precision: 0.6914 - recall: 0.8889 - val_loss: 0.5903 - val_binary_accuracy: 0.7188 - val_precision: 0.6538 - val_recall: 1.0000\n",
      "Epoch 7/50\n",
      "4/4 [==============================] - 11s 3s/step - loss: 0.5771 - binary_accuracy: 0.7578 - precision: 0.7105 - recall: 0.8571 - val_loss: 0.5789 - val_binary_accuracy: 0.7188 - val_precision: 0.7000 - val_recall: 0.8235\n",
      "Epoch 8/50\n",
      "4/4 [==============================] - 11s 3s/step - loss: 0.5630 - binary_accuracy: 0.7891 - precision: 0.8333 - recall: 0.7143 - val_loss: 0.5708 - val_binary_accuracy: 0.7500 - val_precision: 0.7368 - val_recall: 0.8235\n",
      "Epoch 9/50\n",
      "4/4 [==============================] - 11s 3s/step - loss: 0.5560 - binary_accuracy: 0.7656 - precision: 0.8367 - recall: 0.6508 - val_loss: 0.5597 - val_binary_accuracy: 0.7188 - val_precision: 0.7000 - val_recall: 0.8235\n",
      "Epoch 10/50\n",
      "4/4 [==============================] - 11s 3s/step - loss: 0.5458 - binary_accuracy: 0.7891 - precision: 0.7647 - recall: 0.8254 - val_loss: 0.5540 - val_binary_accuracy: 0.7812 - val_precision: 0.7083 - val_recall: 1.0000\n",
      "Epoch 11/50\n",
      "4/4 [==============================] - 11s 3s/step - loss: 0.5289 - binary_accuracy: 0.8203 - precision: 0.7703 - recall: 0.9048 - val_loss: 0.5426 - val_binary_accuracy: 0.7500 - val_precision: 0.6957 - val_recall: 0.9412\n",
      "Epoch 12/50\n",
      "4/4 [==============================] - 11s 3s/step - loss: 0.5285 - binary_accuracy: 0.7734 - precision: 0.7931 - recall: 0.7302 - val_loss: 0.5346 - val_binary_accuracy: 0.7500 - val_precision: 0.7143 - val_recall: 0.8824\n",
      "Epoch 13/50\n",
      "4/4 [==============================] - 11s 3s/step - loss: 0.4969 - binary_accuracy: 0.8438 - precision: 0.8209 - recall: 0.8730 - val_loss: 0.5302 - val_binary_accuracy: 0.7812 - val_precision: 0.7083 - val_recall: 1.0000\n",
      "Epoch 14/50\n",
      "4/4 [==============================] - 11s 3s/step - loss: 0.4916 - binary_accuracy: 0.8672 - precision: 0.8485 - recall: 0.8889 - val_loss: 0.5234 - val_binary_accuracy: 0.7812 - val_precision: 0.7083 - val_recall: 1.0000\n",
      "Epoch 15/50\n",
      "4/4 [==============================] - 11s 3s/step - loss: 0.4980 - binary_accuracy: 0.8047 - precision: 0.7794 - recall: 0.8413 - val_loss: 0.5187 - val_binary_accuracy: 0.7812 - val_precision: 0.7083 - val_recall: 1.0000\n",
      "Epoch 16/50\n",
      "4/4 [==============================] - 11s 3s/step - loss: 0.4785 - binary_accuracy: 0.8594 - precision: 0.8571 - recall: 0.8571 - val_loss: 0.5099 - val_binary_accuracy: 0.7188 - val_precision: 0.6818 - val_recall: 0.8824\n",
      "Epoch 17/50\n",
      "4/4 [==============================] - 11s 3s/step - loss: 0.4819 - binary_accuracy: 0.8281 - precision: 0.8361 - recall: 0.8095 - val_loss: 0.5035 - val_binary_accuracy: 0.7500 - val_precision: 0.7143 - val_recall: 0.8824\n",
      "Epoch 18/50\n",
      "4/4 [==============================] - 11s 3s/step - loss: 0.4678 - binary_accuracy: 0.8359 - precision: 0.8500 - recall: 0.8095 - val_loss: 0.5006 - val_binary_accuracy: 0.7812 - val_precision: 0.7083 - val_recall: 1.0000\n",
      "Epoch 19/50\n",
      "4/4 [==============================] - 11s 3s/step - loss: 0.4601 - binary_accuracy: 0.8438 - precision: 0.8209 - recall: 0.8730 - val_loss: 0.4966 - val_binary_accuracy: 0.7812 - val_precision: 0.7083 - val_recall: 1.0000\n",
      "Epoch 20/50\n",
      "4/4 [==============================] - 11s 3s/step - loss: 0.4343 - binary_accuracy: 0.8906 - precision: 0.8657 - recall: 0.9206 - val_loss: 0.4907 - val_binary_accuracy: 0.7812 - val_precision: 0.7083 - val_recall: 1.0000\n",
      "Epoch 21/50\n",
      "4/4 [==============================] - 11s 3s/step - loss: 0.4463 - binary_accuracy: 0.8984 - precision: 0.8906 - recall: 0.9048 - val_loss: 0.4856 - val_binary_accuracy: 0.7500 - val_precision: 0.6957 - val_recall: 0.9412\n",
      "Epoch 22/50\n",
      "4/4 [==============================] - 11s 3s/step - loss: 0.4330 - binary_accuracy: 0.8906 - precision: 0.8889 - recall: 0.8889 - val_loss: 0.4834 - val_binary_accuracy: 0.7812 - val_precision: 0.7083 - val_recall: 1.0000\n",
      "Epoch 23/50\n",
      "4/4 [==============================] - 11s 3s/step - loss: 0.4344 - binary_accuracy: 0.8672 - precision: 0.8382 - recall: 0.9048 - val_loss: 0.4810 - val_binary_accuracy: 0.7812 - val_precision: 0.7083 - val_recall: 1.0000\n",
      "Epoch 24/50\n",
      "4/4 [==============================] - 11s 3s/step - loss: 0.4063 - binary_accuracy: 0.9219 - precision: 0.9077 - recall: 0.9365 - val_loss: 0.4751 - val_binary_accuracy: 0.7812 - val_precision: 0.7083 - val_recall: 1.0000\n",
      "Epoch 25/50\n",
      "4/4 [==============================] - 11s 3s/step - loss: 0.4032 - binary_accuracy: 0.8906 - precision: 0.8769 - recall: 0.9048 - val_loss: 0.4695 - val_binary_accuracy: 0.7500 - val_precision: 0.6957 - val_recall: 0.9412\n",
      "Epoch 26/50\n",
      "4/4 [==============================] - 11s 3s/step - loss: 0.4094 - binary_accuracy: 0.8672 - precision: 0.8594 - recall: 0.8730 - val_loss: 0.4648 - val_binary_accuracy: 0.7500 - val_precision: 0.6957 - val_recall: 0.9412\n",
      "Epoch 27/50\n",
      "4/4 [==============================] - 11s 3s/step - loss: 0.3944 - binary_accuracy: 0.8984 - precision: 0.9032 - recall: 0.8889 - val_loss: 0.4636 - val_binary_accuracy: 0.7500 - val_precision: 0.6957 - val_recall: 0.9412\n",
      "Epoch 28/50\n",
      "4/4 [==============================] - 11s 3s/step - loss: 0.3883 - binary_accuracy: 0.8828 - precision: 0.8529 - recall: 0.9206 - val_loss: 0.4685 - val_binary_accuracy: 0.7812 - val_precision: 0.7083 - val_recall: 1.0000\n",
      "Epoch 29/50\n",
      "4/4 [==============================] - 11s 3s/step - loss: 0.4018 - binary_accuracy: 0.8594 - precision: 0.8000 - recall: 0.9524 - val_loss: 0.4647 - val_binary_accuracy: 0.7812 - val_precision: 0.7083 - val_recall: 1.0000\n",
      "Epoch 30/50\n",
      "4/4 [==============================] - 11s 3s/step - loss: 0.3852 - binary_accuracy: 0.9062 - precision: 0.8923 - recall: 0.9206 - val_loss: 0.4510 - val_binary_accuracy: 0.7500 - val_precision: 0.6957 - val_recall: 0.9412\n",
      "Epoch 31/50\n",
      "4/4 [==============================] - 136s 45s/step - loss: 0.3830 - binary_accuracy: 0.8984 - precision: 0.9032 - recall: 0.8889 - val_loss: 0.4462 - val_binary_accuracy: 0.8125 - val_precision: 0.7619 - val_recall: 0.9412\n",
      "Epoch 32/50\n",
      "4/4 [==============================] - 13s 4s/step - loss: 0.3780 - binary_accuracy: 0.8906 - precision: 0.8657 - recall: 0.9206 - val_loss: 0.4494 - val_binary_accuracy: 0.7500 - val_precision: 0.6957 - val_recall: 0.9412\n",
      "Epoch 33/50\n",
      "4/4 [==============================] - 12s 3s/step - loss: 0.3652 - binary_accuracy: 0.8984 - precision: 0.8906 - recall: 0.9048 - val_loss: 0.4495 - val_binary_accuracy: 0.7812 - val_precision: 0.7083 - val_recall: 1.0000\n",
      "Epoch 34/50\n",
      "4/4 [==============================] - 11s 3s/step - loss: 0.3719 - binary_accuracy: 0.8906 - precision: 0.8657 - recall: 0.9206 - val_loss: 0.4478 - val_binary_accuracy: 0.7812 - val_precision: 0.7083 - val_recall: 1.0000\n",
      "Epoch 35/50\n",
      "4/4 [==============================] - 12s 3s/step - loss: 0.3683 - binary_accuracy: 0.8828 - precision: 0.8529 - recall: 0.9206 - val_loss: 0.4434 - val_binary_accuracy: 0.7812 - val_precision: 0.7083 - val_recall: 1.0000\n",
      "Epoch 36/50\n",
      "4/4 [==============================] - 14s 3s/step - loss: 0.3681 - binary_accuracy: 0.9219 - precision: 0.9077 - recall: 0.9365 - val_loss: 0.4356 - val_binary_accuracy: 0.7812 - val_precision: 0.7273 - val_recall: 0.9412\n",
      "Epoch 37/50\n",
      "4/4 [==============================] - 11s 3s/step - loss: 0.3644 - binary_accuracy: 0.8984 - precision: 0.8906 - recall: 0.9048 - val_loss: 0.4315 - val_binary_accuracy: 0.7812 - val_precision: 0.7273 - val_recall: 0.9412\n",
      "Epoch 38/50\n",
      "4/4 [==============================] - 11s 3s/step - loss: 0.3460 - binary_accuracy: 0.9062 - precision: 0.9048 - recall: 0.9048 - val_loss: 0.4366 - val_binary_accuracy: 0.7812 - val_precision: 0.7083 - val_recall: 1.0000\n",
      "Epoch 39/50\n",
      "4/4 [==============================] - 11s 3s/step - loss: 0.3405 - binary_accuracy: 0.9219 - precision: 0.9077 - recall: 0.9365 - val_loss: 0.4377 - val_binary_accuracy: 0.7812 - val_precision: 0.7083 - val_recall: 1.0000\n",
      "Epoch 40/50\n",
      "4/4 [==============================] - 11s 3s/step - loss: 0.3425 - binary_accuracy: 0.8984 - precision: 0.8676 - recall: 0.9365 - val_loss: 0.4289 - val_binary_accuracy: 0.7812 - val_precision: 0.7273 - val_recall: 0.9412\n",
      "Epoch 41/50\n",
      "4/4 [==============================] - 11s 3s/step - loss: 0.3496 - binary_accuracy: 0.8906 - precision: 0.8551 - recall: 0.9365 - val_loss: 0.4287 - val_binary_accuracy: 0.7812 - val_precision: 0.7083 - val_recall: 1.0000\n",
      "Epoch 42/50\n",
      "4/4 [==============================] - 11s 3s/step - loss: 0.3331 - binary_accuracy: 0.9062 - precision: 0.8923 - recall: 0.9206 - val_loss: 0.4214 - val_binary_accuracy: 0.7812 - val_precision: 0.7273 - val_recall: 0.9412\n",
      "Epoch 43/50\n",
      "4/4 [==============================] - 11s 3s/step - loss: 0.3313 - binary_accuracy: 0.9219 - precision: 0.9206 - recall: 0.9206 - val_loss: 0.4212 - val_binary_accuracy: 0.7812 - val_precision: 0.7273 - val_recall: 0.9412\n",
      "Epoch 44/50\n",
      "4/4 [==============================] - 11s 3s/step - loss: 0.3374 - binary_accuracy: 0.9219 - precision: 0.9077 - recall: 0.9365 - val_loss: 0.4184 - val_binary_accuracy: 0.7812 - val_precision: 0.7273 - val_recall: 0.9412\n",
      "Epoch 45/50\n",
      "4/4 [==============================] - 11s 3s/step - loss: 0.3190 - binary_accuracy: 0.9141 - precision: 0.9062 - recall: 0.9206 - val_loss: 0.4179 - val_binary_accuracy: 0.7812 - val_precision: 0.7273 - val_recall: 0.9412\n",
      "Epoch 46/50\n",
      "4/4 [==============================] - 11s 3s/step - loss: 0.3359 - binary_accuracy: 0.8906 - precision: 0.8657 - recall: 0.9206 - val_loss: 0.4209 - val_binary_accuracy: 0.8125 - val_precision: 0.7391 - val_recall: 1.0000\n",
      "Epoch 47/50\n",
      "4/4 [==============================] - 11s 3s/step - loss: 0.3192 - binary_accuracy: 0.9141 - precision: 0.8824 - recall: 0.9524 - val_loss: 0.4119 - val_binary_accuracy: 0.7812 - val_precision: 0.7273 - val_recall: 0.9412\n",
      "Epoch 48/50\n",
      "4/4 [==============================] - 11s 3s/step - loss: 0.3095 - binary_accuracy: 0.9297 - precision: 0.9219 - recall: 0.9365 - val_loss: 0.4100 - val_binary_accuracy: 0.7812 - val_precision: 0.7273 - val_recall: 0.9412\n",
      "Epoch 49/50\n",
      "4/4 [==============================] - 11s 3s/step - loss: 0.3085 - binary_accuracy: 0.9219 - precision: 0.9077 - recall: 0.9365 - val_loss: 0.4117 - val_binary_accuracy: 0.8125 - val_precision: 0.7391 - val_recall: 1.0000\n",
      "Epoch 50/50\n",
      "4/4 [==============================] - 11s 3s/step - loss: 0.3168 - binary_accuracy: 0.8906 - precision: 0.8889 - recall: 0.8889 - val_loss: 0.4128 - val_binary_accuracy: 0.8125 - val_precision: 0.7391 - val_recall: 1.0000\n"
     ]
    }
   ],
   "source": [
    "history=model.fit(X_train, Y_train, epochs=50, validation_split=0.2)"
   ]
  },
  {
   "cell_type": "code",
   "execution_count": 80,
   "metadata": {},
   "outputs": [
    {
     "name": "stdout",
     "output_type": "stream",
     "text": [
      "2/2 [==============================] - 7s 2s/step - loss: 0.2421 - binary_accuracy: 0.9750 - precision: 1.0000 - recall: 0.9500\n"
     ]
    },
    {
     "data": {
      "text/plain": [
       "[0.24212132394313812, 0.9750000238418579, 1.0, 0.949999988079071]"
      ]
     },
     "execution_count": 80,
     "metadata": {},
     "output_type": "execute_result"
    }
   ],
   "source": [
    "model.evaluate(X_test,Y_test)"
   ]
  },
  {
   "cell_type": "code",
   "execution_count": 81,
   "metadata": {},
   "outputs": [
    {
     "name": "stdout",
     "output_type": "stream",
     "text": [
      "2/2 [==============================] - 6s 2s/step\n"
     ]
    }
   ],
   "source": [
    "y_predicted=model.predict(X_test)"
   ]
  },
  {
   "cell_type": "code",
   "execution_count": 86,
   "metadata": {},
   "outputs": [
    {
     "data": {
      "text/plain": [
       "array([[0.06070319],\n",
       "       [0.88201153],\n",
       "       [0.4813815 ],\n",
       "       [0.73973465],\n",
       "       [0.15911812],\n",
       "       [0.10555382],\n",
       "       [0.7164911 ],\n",
       "       [0.2584961 ],\n",
       "       [0.8795364 ],\n",
       "       [0.1373716 ],\n",
       "       [0.87698793],\n",
       "       [0.7489918 ],\n",
       "       [0.56748694],\n",
       "       [0.31059262],\n",
       "       [0.21816202],\n",
       "       [0.10587174],\n",
       "       [0.07590651],\n",
       "       [0.25941947],\n",
       "       [0.84597766],\n",
       "       [0.87202704],\n",
       "       [0.02763875],\n",
       "       [0.87866974],\n",
       "       [0.9417441 ],\n",
       "       [0.82118833],\n",
       "       [0.43117216],\n",
       "       [0.31131133],\n",
       "       [0.88449323],\n",
       "       [0.8308649 ],\n",
       "       [0.48009852],\n",
       "       [0.05785055],\n",
       "       [0.9509256 ],\n",
       "       [0.92076933],\n",
       "       [0.36258593],\n",
       "       [0.21415138],\n",
       "       [0.03864854],\n",
       "       [0.785019  ],\n",
       "       [0.38568065],\n",
       "       [0.81505984],\n",
       "       [0.7326509 ],\n",
       "       [0.32205936]], dtype=float32)"
      ]
     },
     "execution_count": 86,
     "metadata": {},
     "output_type": "execute_result"
    }
   ],
   "source": [
    "y_predicted"
   ]
  },
  {
   "cell_type": "code",
   "execution_count": 89,
   "metadata": {},
   "outputs": [],
   "source": [
    "y_predicted=np.where(y_predicted>0.5,1,0)"
   ]
  },
  {
   "cell_type": "code",
   "execution_count": 90,
   "metadata": {},
   "outputs": [
    {
     "data": {
      "text/plain": [
       "array([[0],\n",
       "       [1],\n",
       "       [0],\n",
       "       [1],\n",
       "       [0],\n",
       "       [0],\n",
       "       [1],\n",
       "       [0],\n",
       "       [1],\n",
       "       [0],\n",
       "       [1],\n",
       "       [1],\n",
       "       [1],\n",
       "       [0],\n",
       "       [0],\n",
       "       [0],\n",
       "       [0],\n",
       "       [0],\n",
       "       [1],\n",
       "       [1],\n",
       "       [0],\n",
       "       [1],\n",
       "       [1],\n",
       "       [1],\n",
       "       [0],\n",
       "       [0],\n",
       "       [1],\n",
       "       [1],\n",
       "       [0],\n",
       "       [0],\n",
       "       [1],\n",
       "       [1],\n",
       "       [0],\n",
       "       [0],\n",
       "       [0],\n",
       "       [1],\n",
       "       [0],\n",
       "       [1],\n",
       "       [1],\n",
       "       [0]])"
      ]
     },
     "execution_count": 90,
     "metadata": {},
     "output_type": "execute_result"
    }
   ],
   "source": [
    "y_predicted"
   ]
  },
  {
   "cell_type": "code",
   "execution_count": 97,
   "metadata": {},
   "outputs": [
    {
     "name": "stdout",
     "output_type": "stream",
     "text": [
      "[[20  0]\n",
      " [ 1 19]]\n"
     ]
    }
   ],
   "source": [
    "import matplotlib.pyplot as plt\n",
    "from sklearn.metrics import confusion_matrix, classification_report\n",
    "cm=confusion_matrix(Y_test, y_predicted)\n",
    "print(cm)"
   ]
  },
  {
   "cell_type": "code",
   "execution_count": 98,
   "metadata": {},
   "outputs": [
    {
     "data": {
      "text/plain": [
       "Text(50.722222222222214, 0.5, 'Truth')"
      ]
     },
     "execution_count": 98,
     "metadata": {},
     "output_type": "execute_result"
    },
    {
     "data": {
      "image/png": "[encoded data removed]",
      "text/plain": [
       "<Figure size 640x480 with 2 Axes>"
      ]
     },
     "metadata": {},
     "output_type": "display_data"
    }
   ],
   "source": [
    "sns.heatmap(cm, annot=True)\n",
    "plt.xlabel(\"Predicted\")\n",
    "plt.ylabel(\"Truth\")\n"
   ]
  },
  {
   "cell_type": "code",
   "execution_count": 101,
   "metadata": {},
   "outputs": [],
   "source": [
    "history_df=pd.DataFrame(history.history)"
   ]
  },
  {
   "cell_type": "code",
   "execution_count": 102,
   "metadata": {},
   "outputs": [
    {
     "data": {
      "text/html": [
       "<div>\n",
       "<style scoped>\n",
       "    .dataframe tbody tr th:only-of-type {\n",
       "        vertical-align: middle;\n",
       "    }\n",
       "\n",
       "    .dataframe tbody tr th {\n",
       "        vertical-align: top;\n",
       "    }\n",
       "\n",
       "    .dataframe thead th {\n",
       "        text-align: right;\n",
       "    }\n",
       "</style>\n",
       "<table border=\"1\" class=\"dataframe\">\n",
       "  <thead>\n",
       "    <tr style=\"text-align: right;\">\n",
       "      <th></th>\n",
       "      <th>loss</th>\n",
       "      <th>binary_accuracy</th>\n",
       "      <th>precision</th>\n",
       "      <th>recall</th>\n",
       "      <th>val_loss</th>\n",
       "      <th>val_binary_accuracy</th>\n",
       "      <th>val_precision</th>\n",
       "      <th>val_recall</th>\n",
       "    </tr>\n",
       "  </thead>\n",
       "  <tbody>\n",
       "    <tr>\n",
       "      <th>0</th>\n",
       "      <td>0.691782</td>\n",
       "      <td>0.539062</td>\n",
       "      <td>0.541667</td>\n",
       "      <td>0.412698</td>\n",
       "      <td>0.660042</td>\n",
       "      <td>0.62500</td>\n",
       "      <td>0.600000</td>\n",
       "      <td>0.882353</td>\n",
       "    </tr>\n",
       "    <tr>\n",
       "      <th>1</th>\n",
       "      <td>0.688719</td>\n",
       "      <td>0.570312</td>\n",
       "      <td>0.551282</td>\n",
       "      <td>0.682540</td>\n",
       "      <td>0.642752</td>\n",
       "      <td>0.71875</td>\n",
       "      <td>0.653846</td>\n",
       "      <td>1.000000</td>\n",
       "    </tr>\n",
       "    <tr>\n",
       "      <th>2</th>\n",
       "      <td>0.662058</td>\n",
       "      <td>0.601562</td>\n",
       "      <td>0.593750</td>\n",
       "      <td>0.603175</td>\n",
       "      <td>0.631879</td>\n",
       "      <td>0.65625</td>\n",
       "      <td>0.714286</td>\n",
       "      <td>0.588235</td>\n",
       "    </tr>\n",
       "    <tr>\n",
       "      <th>3</th>\n",
       "      <td>0.644684</td>\n",
       "      <td>0.593750</td>\n",
       "      <td>0.648649</td>\n",
       "      <td>0.380952</td>\n",
       "      <td>0.618356</td>\n",
       "      <td>0.65625</td>\n",
       "      <td>0.714286</td>\n",
       "      <td>0.588235</td>\n",
       "    </tr>\n",
       "    <tr>\n",
       "      <th>4</th>\n",
       "      <td>0.642329</td>\n",
       "      <td>0.632812</td>\n",
       "      <td>0.617647</td>\n",
       "      <td>0.666667</td>\n",
       "      <td>0.605712</td>\n",
       "      <td>0.71875</td>\n",
       "      <td>0.653846</td>\n",
       "      <td>1.000000</td>\n",
       "    </tr>\n",
       "  </tbody>\n",
       "</table>\n",
       "</div>"
      ],
      "text/plain": [
       "       loss  binary_accuracy  precision    recall  val_loss  \\\n",
       "0  0.691782         0.539062   0.541667  0.412698  0.660042   \n",
       "1  0.688719         0.570312   0.551282  0.682540  0.642752   \n",
       "2  0.662058         0.601562   0.593750  0.603175  0.631879   \n",
       "3  0.644684         0.593750   0.648649  0.380952  0.618356   \n",
       "4  0.642329         0.632812   0.617647  0.666667  0.605712   \n",
       "\n",
       "   val_binary_accuracy  val_precision  val_recall  \n",
       "0              0.62500       0.600000    0.882353  \n",
       "1              0.71875       0.653846    1.000000  \n",
       "2              0.65625       0.714286    0.588235  \n",
       "3              0.65625       0.714286    0.588235  \n",
       "4              0.71875       0.653846    1.000000  "
      ]
     },
     "execution_count": 102,
     "metadata": {},
     "output_type": "execute_result"
    }
   ],
   "source": [
    "history_df.head()"
   ]
  },
  {
   "cell_type": "code",
   "execution_count": 108,
   "metadata": {},
   "outputs": [
    {
     "data": {
      "text/plain": [
       "[<matplotlib.lines.Line2D at 0x423715ba0>]"
      ]
     },
     "execution_count": 108,
     "metadata": {},
     "output_type": "execute_result"
    },
    {
     "data": {
      "image/png": "[encoded data removed]",
      "text/plain": [
       "<Figure size 640x480 with 1 Axes>"
      ]
     },
     "metadata": {},
     "output_type": "display_data"
    }
   ],
   "source": [
    "plt.plot(history_df['recall'])\n",
    "plt.plot(history_df['val_recall'])"
   ]
  },
  {
   "cell_type": "code",
   "execution_count": 110,
   "metadata": {},
   "outputs": [
    {
     "name": "stdout",
     "output_type": "stream",
     "text": [
      "              precision    recall  f1-score   support\n",
      "\n",
      "           0       0.95      1.00      0.98        20\n",
      "           1       1.00      0.95      0.97        20\n",
      "\n",
      "    accuracy                           0.97        40\n",
      "   macro avg       0.98      0.97      0.97        40\n",
      "weighted avg       0.98      0.97      0.97        40\n",
      "\n"
     ]
    }
   ],
   "source": [
    "print(classification_report(Y_test, y_predicted))"
   ]
  },
  {
   "cell_type": "code",
   "execution_count": 145,
   "metadata": {},
   "outputs": [
    {
     "name": "stdout",
     "output_type": "stream",
     "text": [
      "1/1 [==============================] - 0s 418ms/step\n"
     ]
    },
    {
     "data": {
      "text/plain": [
       "array([[0.37979808]], dtype=float32)"
      ]
     },
     "execution_count": 145,
     "metadata": {},
     "output_type": "execute_result"
    }
   ],
   "source": [
    "reviews=['Go until jurong point, crazy.. Available only in bugis n great world la e buffet... Cine there got amore wat...']\n",
    "result=model.predict(reviews)\n",
    "result"
   ]
  },
  {
   "cell_type": "code",
   "execution_count": 124,
   "metadata": {},
   "outputs": [
    {
     "data": {
      "text/html": [
       "<div>\n",
       "<style scoped>\n",
       "    .dataframe tbody tr th:only-of-type {\n",
       "        vertical-align: middle;\n",
       "    }\n",
       "\n",
       "    .dataframe tbody tr th {\n",
       "        vertical-align: top;\n",
       "    }\n",
       "\n",
       "    .dataframe thead th {\n",
       "        text-align: right;\n",
       "    }\n",
       "</style>\n",
       "<table border=\"1\" class=\"dataframe\">\n",
       "  <thead>\n",
       "    <tr style=\"text-align: right;\">\n",
       "      <th></th>\n",
       "      <th>Category</th>\n",
       "      <th>Message</th>\n",
       "    </tr>\n",
       "  </thead>\n",
       "  <tbody>\n",
       "    <tr>\n",
       "      <th>1048</th>\n",
       "      <td>spam</td>\n",
       "      <td>1000's flirting NOW! Txt GIRL or BLOKE &amp; ur NA...</td>\n",
       "    </tr>\n",
       "    <tr>\n",
       "      <th>65</th>\n",
       "      <td>spam</td>\n",
       "      <td>As a valued customer, I am pleased to advise y...</td>\n",
       "    </tr>\n",
       "    <tr>\n",
       "      <th>1734</th>\n",
       "      <td>spam</td>\n",
       "      <td>Hi, this is Mandy Sullivan calling from HOTMIX...</td>\n",
       "    </tr>\n",
       "    <tr>\n",
       "      <th>709</th>\n",
       "      <td>spam</td>\n",
       "      <td>To review and KEEP the fantastic Nokia N-Gage ...</td>\n",
       "    </tr>\n",
       "    <tr>\n",
       "      <th>5205</th>\n",
       "      <td>spam</td>\n",
       "      <td>Had your mobile 11mths ? Update for FREE to Or...</td>\n",
       "    </tr>\n",
       "  </tbody>\n",
       "</table>\n",
       "</div>"
      ],
      "text/plain": [
       "     Category                                            Message\n",
       "1048     spam  1000's flirting NOW! Txt GIRL or BLOKE & ur NA...\n",
       "65       spam  As a valued customer, I am pleased to advise y...\n",
       "1734     spam  Hi, this is Mandy Sullivan calling from HOTMIX...\n",
       "709      spam  To review and KEEP the fantastic Nokia N-Gage ...\n",
       "5205     spam  Had your mobile 11mths ? Update for FREE to Or..."
      ]
     },
     "execution_count": 124,
     "metadata": {},
     "output_type": "execute_result"
    }
   ],
   "source": [
    "spams.head()"
   ]
  },
  {
   "cell_type": "code",
   "execution_count": 125,
   "metadata": {},
   "outputs": [
    {
     "data": {
      "text/plain": [
       "1048    1000's flirting NOW! Txt GIRL or BLOKE & ur NA...\n",
       "65      As a valued customer, I am pleased to advise y...\n",
       "1734    Hi, this is Mandy Sullivan calling from HOTMIX...\n",
       "709     To review and KEEP the fantastic Nokia N-Gage ...\n",
       "5205    Had your mobile 11mths ? Update for FREE to Or...\n",
       "                              ...                        \n",
       "4394    RECPT 1/3. You have ordered a Ringtone. Your o...\n",
       "2575    Your next amazing xxx PICSFREE1 video will be ...\n",
       "3132    LookAtMe!: Thanks for your purchase of a video...\n",
       "95      Your free ringtone is waiting to be collected....\n",
       "1888    Urgent! Please call 09061743811 from landline....\n",
       "Name: Message, Length: 100, dtype: object"
      ]
     },
     "execution_count": 125,
     "metadata": {},
     "output_type": "execute_result"
    }
   ],
   "source": [
    "spams.Message"
   ]
  },
  {
   "cell_type": "code",
   "execution_count": 130,
   "metadata": {},
   "outputs": [
    {
     "data": {
      "text/plain": [
       "<bound method Series.take of 1048    1000's flirting NOW! Txt GIRL or BLOKE & ur NA...\n",
       "65      As a valued customer, I am pleased to advise y...\n",
       "1734    Hi, this is Mandy Sullivan calling from HOTMIX...\n",
       "709     To review and KEEP the fantastic Nokia N-Gage ...\n",
       "5205    Had your mobile 11mths ? Update for FREE to Or...\n",
       "                              ...                        \n",
       "4394    RECPT 1/3. You have ordered a Ringtone. Your o...\n",
       "2575    Your next amazing xxx PICSFREE1 video will be ...\n",
       "3132    LookAtMe!: Thanks for your purchase of a video...\n",
       "95      Your free ringtone is waiting to be collected....\n",
       "1888    Urgent! Please call 09061743811 from landline....\n",
       "Name: Message, Length: 100, dtype: object>"
      ]
     },
     "execution_count": 130,
     "metadata": {},
     "output_type": "execute_result"
    }
   ],
   "source": [
    "spams.Message"
   ]
  },
  {
   "cell_type": "code",
   "execution_count": null,
   "metadata": {},
   "outputs": [],
   "source": []
  }
 ],
 "metadata": {
  "kernelspec": {
   "display_name": "base",
   "language": "python",
   "name": "python3"
  },
  "language_info": {
   "codemirror_mode": {
    "name": "ipython",
    "version": 3
   },
   "file_extension": ".py",
   "mimetype": "text/x-python",
   "name": "python",
   "nbconvert_exporter": "python",
   "pygments_lexer": "ipython3",
   "version": "3.10.10"
  },
  "orig_nbformat": 4
 },
 "nbformat": 4,
 "nbformat_minor": 2
}
