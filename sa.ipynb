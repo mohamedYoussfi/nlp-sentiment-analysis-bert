{
 "cells": [
  {
   "cell_type": "code",
   "execution_count": 8,
   "metadata": {},
   "outputs": [],
   "source": [
    "import tensorflow as tf\n",
    "import tensorflow_text as text\n",
    "import tensorflow_hub as hub"
   ]
  },
  {
   "cell_type": "code",
   "execution_count": 9,
   "metadata": {},
   "outputs": [],
   "source": [
    "bert_encoder_url=\"https://tfhub.dev/tensorflow/bert_en_uncased_L-12_H-768_A-12/4\"\n",
    "bert_preprocess_url=\"https://tfhub.dev/tensorflow/bert_en_uncased_preprocess/3\""
   ]
  },
  {
   "cell_type": "code",
   "execution_count": 24,
   "metadata": {},
   "outputs": [],
   "source": [
    "#bert_preprocess_model=hub.KerasLayer(bert_preprocess_url)\n",
    "bert_preprocess_model=hub.KerasLayer('bert_en_uncased_preprocess_3')\n",
    "#bert_encoder_model=hub.KerasLayer(bert_encoder_url)\n",
    "bert_encoder_model=hub.KerasLayer('bert_en_uncased_L-12_H-768_A-12_4')"
   ]
  },
  {
   "cell_type": "code",
   "execution_count": 40,
   "metadata": {},
   "outputs": [],
   "source": [
    "reviews =[\"One of the other reviewers has mentioned that after watching just 1 Oz episode you'll be hooked. They are right, as this is exactly what happened with me.<br /><br />The first thing that struck me about Oz was its brutality and unflinching scenes of violence, which set in right from the word GO. Trust me, this is not a show for the faint hearted or timid. This show pulls no punches with regards to drugs, sex or violence. Its is hardcore, in the classic use of the word.<br /><br />It is called OZ as that is the nickname given to the Oswald Maximum Security State Penitentary. It focuses mainly on Emerald City, an experimental section of the prison where all the cells have glass fronts and face inwards, so privacy is not high on the agenda. Em City is home to many..Aryans, Muslims, gangstas, Latinos, Christians, Italians, Irish and more....so scuffles, death stares, dodgy dealings and shady agreements are never far away.<br /><br />I would say the main appeal of the show is due to the fact that it goes where other shows wouldn't dare. Forget pretty pictures painted for mainstream audiences, forget charm, forget romance...OZ doesn't mess around. The first episode I ever saw struck me as so nasty it was surreal, I couldn't say I was ready for it, but as I watched more, I developed a taste for Oz, and got accustomed to the high levels of graphic violence. Not just violence, but injustice (crooked guards who'll be sold out for a nickel, inmates who'll kill on order and get away with it, well mannered, middle class inmates being turned into prison bitches due to their lack of street skills or prison experience) Watching Oz, you may become comfortable with what is uncomfortable viewing....thats if you can get in touch with your darker side.\",\"i do not like the last part of the movie\"]"
   ]
  },
  {
   "cell_type": "code",
   "execution_count": 41,
   "metadata": {},
   "outputs": [],
   "source": [
    "processed_text=bert_preprocess_model(reviews)"
   ]
  },
  {
   "cell_type": "code",
   "execution_count": 42,
   "metadata": {},
   "outputs": [
    {
     "data": {
      "text/plain": [
       "dict_keys(['input_type_ids', 'input_mask', 'input_word_ids'])"
      ]
     },
     "execution_count": 42,
     "metadata": {},
     "output_type": "execute_result"
    }
   ],
   "source": [
    "processed_text.keys()"
   ]
  },
  {
   "cell_type": "code",
   "execution_count": 44,
   "metadata": {},
   "outputs": [
    {
     "data": {
      "text/plain": [
       "<tf.Tensor: shape=(128,), dtype=int32, numpy=\n",
       "array([  101,  2028,  1997,  1996,  2060, 15814,  2038,  3855,  2008,\n",
       "        2044,  3666,  2074,  1015, 11472,  2792,  2017,  1005,  2222,\n",
       "        2022, 13322,  1012,  2027,  2024,  2157,  1010,  2004,  2023,\n",
       "        2003,  3599,  2054,  3047,  2007,  2033,  1012,  1026,  7987,\n",
       "        1013,  1028,  1026,  7987,  1013,  1028,  1996,  2034,  2518,\n",
       "        2008,  4930,  2033,  2055, 11472,  2001,  2049, 24083,  1998,\n",
       "        4895, 10258,  2378,  8450,  5019,  1997,  4808,  1010,  2029,\n",
       "        2275,  1999,  2157,  2013,  1996,  2773,  2175,  1012,  3404,\n",
       "        2033,  1010,  2023,  2003,  2025,  1037,  2265,  2005,  1996,\n",
       "        8143, 18627,  2030,  5199,  3593,  1012,  2023,  2265,  8005,\n",
       "        2053, 17957,  2007, 12362,  2000,  5850,  1010,  3348,  2030,\n",
       "        4808,  1012,  2049,  2003, 13076,  1010,  1999,  1996,  4438,\n",
       "        2224,  1997,  1996,  2773,  1012,  1026,  7987,  1013,  1028,\n",
       "        1026,  7987,  1013,  1028,  2009,  2003,  2170, 11472,  2004,\n",
       "        2008,   102], dtype=int32)>"
      ]
     },
     "execution_count": 44,
     "metadata": {},
     "output_type": "execute_result"
    }
   ],
   "source": [
    "processed_text['input_word_ids'][0]"
   ]
  },
  {
   "cell_type": "code",
   "execution_count": 28,
   "metadata": {},
   "outputs": [],
   "source": [
    "encoded_text=bert_encoder_model(processed_text)"
   ]
  },
  {
   "cell_type": "code",
   "execution_count": 29,
   "metadata": {},
   "outputs": [
    {
     "data": {
      "text/plain": [
       "dict_keys(['pooled_output', 'sequence_output', 'encoder_outputs', 'default'])"
      ]
     },
     "execution_count": 29,
     "metadata": {},
     "output_type": "execute_result"
    }
   ],
   "source": [
    "encoded_text.keys()"
   ]
  },
  {
   "cell_type": "code",
   "execution_count": 30,
   "metadata": {},
   "outputs": [
    {
     "data": {
      "text/plain": [
       "<tf.Tensor: shape=(2, 768), dtype=float32, numpy=\n",
       "array([[-0.86172384, -0.30019632, -0.43665376, ..., -0.20322746,\n",
       "        -0.562812  ,  0.87094474],\n",
       "       [-0.83645123, -0.28620818,  0.18301775, ...,  0.35978758,\n",
       "        -0.5632274 ,  0.8779379 ]], dtype=float32)>"
      ]
     },
     "execution_count": 30,
     "metadata": {},
     "output_type": "execute_result"
    }
   ],
   "source": [
    "encoded_text['pooled_output']"
   ]
  },
  {
   "cell_type": "code",
   "execution_count": 33,
   "metadata": {},
   "outputs": [
    {
     "data": {
      "text/plain": [
       "<tf.Tensor: shape=(768,), dtype=float32, numpy=\n",
       "array([ 5.30457906e-02,  6.14858977e-02,  8.62417892e-02, -7.81071484e-02,\n",
       "       -1.30853087e-01, -6.41600430e-01,  1.06077485e-01,  6.70726001e-01,\n",
       "        1.77621663e-01, -3.70985001e-01,  9.91099104e-02, -5.50166517e-02,\n",
       "        3.62060905e-01,  4.77545232e-01,  1.94999546e-01,  1.27746344e-01,\n",
       "       -2.50196159e-01,  5.39256394e-01,  3.20542872e-01, -2.61821449e-01,\n",
       "       -2.93204308e-01, -2.71295935e-01, -3.23616639e-02, -1.58299655e-01,\n",
       "        3.09311226e-03,  1.32513419e-02, -1.29775614e-01, -2.21350100e-02,\n",
       "        1.27171978e-01, -2.77723446e-02, -1.31884497e-02,  2.32451484e-01,\n",
       "       -4.81601626e-01,  1.90082431e-01,  3.07142548e-02, -2.75524199e-01,\n",
       "        2.11713746e-01,  6.21539727e-03, -1.12987190e-01, -2.34742407e-02,\n",
       "       -3.26321125e-02,  2.03262389e-01,  6.30135983e-02,  8.44410285e-02,\n",
       "       -4.75744456e-02, -3.07635069e-01, -2.55594110e+00, -8.92916024e-02,\n",
       "        3.72710451e-02, -5.54197788e-01,  4.14193451e-01, -1.38489902e-01,\n",
       "        2.49333858e-01,  4.40738231e-01,  2.68705189e-01,  8.92812312e-02,\n",
       "       -6.95099473e-01,  5.66335082e-01, -7.02806413e-02,  2.17035025e-01,\n",
       "        1.84316933e-01, -1.54758886e-01, -3.94686200e-02,  1.31289437e-02,\n",
       "        9.35894400e-02,  5.55146001e-02,  8.62752274e-02, -7.49188736e-02,\n",
       "       -3.10879469e-01,  5.91028392e-01, -3.12737972e-01, -2.81010598e-01,\n",
       "        3.12440455e-01, -2.53856272e-01,  7.12454990e-02, -3.48755568e-02,\n",
       "        3.41802776e-01,  1.61009192e-01, -3.55300963e-01,  4.87557724e-02,\n",
       "        7.44025633e-02,  6.47499561e-01,  3.27471256e-01,  1.13201901e-01,\n",
       "       -4.86326125e-03,  3.55256796e-01, -8.86601284e-02, -2.95834482e-01,\n",
       "        1.04049705e-01,  4.06317562e-01, -2.73132145e-01,  2.95751125e-01,\n",
       "        1.86958760e-01,  1.70247748e-01,  5.68525851e-01, -1.67600751e-01,\n",
       "       -1.48687035e-01,  1.34781852e-01, -2.04359367e-02,  3.36123854e-01,\n",
       "        3.50014657e-01, -1.18705213e-01, -2.24878520e-01, -5.30395210e-01,\n",
       "       -3.45804244e-02, -1.47137225e-01,  1.19624898e-01, -3.10288340e-01,\n",
       "        1.14754573e-01, -2.60892868e+00,  2.55269498e-01,  3.17368746e-01,\n",
       "       -7.87195414e-02, -3.20345908e-02, -1.82947926e-02,  6.38098001e-01,\n",
       "        1.93348527e-01, -7.02521652e-02,  2.47770667e-01,  3.92904580e-01,\n",
       "       -1.03131108e-01,  5.07008910e-01, -1.82387173e-01, -5.82487583e-02,\n",
       "        3.69133689e-02,  5.53858578e-01,  1.06543824e-01, -2.37717628e-01,\n",
       "        1.86987109e-02,  2.79950678e-01,  2.78185099e-01,  4.13541526e-01,\n",
       "       -1.50334731e-01, -1.31754458e-01, -1.37696311e-01, -2.38790572e-01,\n",
       "        1.57919779e-01, -2.34987348e-01, -4.73952770e-01, -2.19704688e-01,\n",
       "       -3.67564738e-01, -9.91803110e-02, -3.07986856e+00,  3.59978944e-01,\n",
       "        3.77464145e-01,  4.51652855e-02, -6.48369789e-02, -7.09278360e-02,\n",
       "        2.94939652e-02,  1.01556726e-01,  1.84315041e-01,  2.29951054e-01,\n",
       "       -1.96527109e-01,  1.80980787e-02, -1.59211457e-01, -5.57967499e-02,\n",
       "       -2.83029944e-01, -2.07838103e-01,  2.87196875e-01,  4.51601058e-01,\n",
       "        3.68372172e-01,  1.25794351e-01,  4.92490456e-02, -1.69978827e-01,\n",
       "       -1.92601711e-01, -2.91975569e-02,  3.25118572e-01,  4.98057514e-01,\n",
       "        2.24879771e-01, -1.01744011e-01, -1.95815116e-01,  3.98329705e-01,\n",
       "        1.54958978e-01, -1.69012338e-01,  8.23117495e-02, -1.75398052e-01,\n",
       "        6.26245141e-03,  4.39209819e-01,  1.23370811e-01, -1.76943988e-01,\n",
       "       -2.48460069e-01,  4.88514841e-01, -2.26961765e-02,  1.29394293e-01,\n",
       "        3.34055692e-01, -1.06086433e-01,  3.11423600e-01, -4.11705300e-03,\n",
       "       -3.11325908e-01,  2.75018334e-01,  9.21247452e-02, -1.99049905e-01,\n",
       "       -1.04005143e-01, -1.05230972e-01,  6.05660915e-01, -6.57691201e-03,\n",
       "        3.63671750e-01, -4.47427690e-01, -1.95702687e-02,  2.96573341e-01,\n",
       "       -1.71621963e-01, -2.57747263e-01,  2.14631036e-02,  1.74372241e-01,\n",
       "       -1.93598509e-01,  3.69361401e+00,  2.28959009e-01,  1.07540101e-01,\n",
       "        2.70599797e-02,  2.55697757e-01, -2.48556994e-02,  1.73786610e-01,\n",
       "       -1.40859604e-01, -2.72462010e-01,  1.61794126e-02, -5.65028563e-02,\n",
       "        3.48463207e-01,  8.01860392e-02, -3.07635497e-03,  7.52036870e-02,\n",
       "        1.15916759e-01,  3.30479443e-01, -1.83147267e-01,  3.55587274e-01,\n",
       "       -1.92181170e-01, -7.13192895e-02, -1.26705021e-01,  2.28237674e-01,\n",
       "       -2.56857991e-01, -1.51374900e+00, -1.20187640e-01,  3.04461539e-01,\n",
       "       -2.95044482e-01,  4.68648970e-01, -3.29164982e-01,  5.40310293e-02,\n",
       "       -2.00873852e-01, -3.83998275e-01,  2.07605064e-02,  1.10649928e-01,\n",
       "        3.80792439e-01,  1.43994033e-01,  1.33353844e-02,  4.44290936e-01,\n",
       "       -3.01002026e-01,  5.95013797e-01,  1.10779628e-01, -1.62520647e-01,\n",
       "        4.47335839e-03, -3.36463511e-01,  2.72034198e-01, -5.95810041e-02,\n",
       "        1.89419463e-02, -1.31963566e-01,  2.78177381e-01,  9.39839929e-02,\n",
       "       -1.26574948e-01,  9.81576368e-03, -4.07217443e-01, -1.65137991e-01,\n",
       "       -3.55854392e-01,  2.37804223e-02, -7.92927518e-02,  6.50843754e-02,\n",
       "       -5.50811410e-01, -2.90106863e-01, -5.36018610e-02, -4.60543364e-01,\n",
       "       -7.61165097e-03,  1.60194516e-01, -1.17644772e-01, -1.45689473e-01,\n",
       "       -1.43499851e-01, -3.85580492e+00,  2.33321279e-01,  1.75699443e-01,\n",
       "        2.05864936e-01,  3.75394642e-01,  2.83009261e-02,  2.28544742e-01,\n",
       "        2.81528503e-01,  8.03065151e-02, -4.12678510e-01,  4.63939607e-01,\n",
       "       -7.67327473e-02, -4.03808564e-01,  3.95509601e-02, -3.01673442e-01,\n",
       "        1.83271348e-01, -1.88714713e-01, -2.34121427e-01, -4.24126178e-01,\n",
       "       -1.32644504e-01, -1.28697246e-01,  5.84078372e-01, -2.73484826e-01,\n",
       "        4.10586953e-01, -1.37773916e-01, -1.05858028e-01, -1.36113353e-02,\n",
       "       -2.85328388e-01,  7.36950099e-01,  1.79471120e-01, -1.25630423e-02,\n",
       "        7.11867958e-02,  1.69035509e-01, -9.04430002e-02, -1.08405702e-01,\n",
       "       -3.56470013e+00, -9.32460576e-02, -2.97359794e-01, -1.32623166e-02,\n",
       "       -2.16234013e-01,  1.95918977e-02,  2.72355825e-01, -1.78057179e-01,\n",
       "       -4.65330213e-01,  2.36575276e-01, -1.64005429e-01,  1.98100224e-01,\n",
       "       -1.24100581e-01,  4.69994873e-01,  3.96268487e-01, -7.65716061e-02,\n",
       "        1.73454329e-01,  5.71888685e-02,  3.29950452e-01,  4.05469388e-01,\n",
       "       -3.57407063e-01,  2.96502471e-01, -1.17657017e-02,  5.63637577e-02,\n",
       "        3.17422390e-01,  4.66273129e-01, -1.63569763e-01, -6.80435970e-02,\n",
       "       -1.88202679e-01, -3.94006893e-02,  1.29363358e-01,  2.13329524e-01,\n",
       "        7.58099332e-02, -1.94285631e-01,  1.62659399e-02, -1.64321870e-01,\n",
       "       -4.65719849e-02,  7.95877278e-02,  2.22014293e-01, -1.15019418e-02,\n",
       "       -1.91700712e-01,  3.44213903e-01, -6.70854971e-02,  2.72549629e-01,\n",
       "        4.35242534e-01,  2.07266614e-01,  6.73112422e-02, -1.56143934e-01,\n",
       "       -8.61296058e-02,  9.81252044e-02,  1.62696823e-01,  4.36089188e-02,\n",
       "        9.59071219e-01,  3.93137969e-02,  1.33194983e-01, -3.95654619e-01,\n",
       "        4.02567297e-01,  5.50702289e-02,  3.41095030e-01,  1.85415953e-01,\n",
       "        3.27083111e-01,  3.71185690e-02,  2.92247266e-01, -2.35228185e-02,\n",
       "       -1.47329509e-01, -1.27675697e-01,  3.94694686e-01, -4.78854716e-01,\n",
       "       -1.29915208e-01,  1.53913647e-02,  6.25151843e-02, -1.26671523e-01,\n",
       "       -4.95913066e-03, -8.31174076e-01, -1.45347878e-01,  1.81255415e-02,\n",
       "       -3.52844656e-01,  4.40888464e-01, -4.44097258e-02, -7.75446668e-02,\n",
       "       -1.20564789e-01, -1.08412847e-01, -4.89481688e-02,  3.16226602e-01,\n",
       "       -1.63418129e-01,  6.00245446e-02,  1.45609751e-02, -8.74998048e-03,\n",
       "       -2.68047750e-01,  1.01831622e-01, -1.29903734e-01, -6.79423846e-03,\n",
       "       -1.28401607e-01,  3.37230653e-01, -2.19270855e-01,  4.99250591e-02,\n",
       "        3.24893922e-01, -7.80077934e-01,  6.36623502e-02, -2.66214550e-01,\n",
       "        2.44045481e-02, -2.04620212e-01,  8.77495855e-03,  1.41467258e-01,\n",
       "        9.49065834e-02, -3.33807208e-02,  2.50377744e-01,  4.47254509e-01,\n",
       "        9.51381773e-02,  3.37243587e-01,  1.18829258e-01, -3.79869193e-01,\n",
       "        1.26958475e-01,  2.90283114e-01,  9.70559299e-01, -2.23421440e-01,\n",
       "       -1.52287051e-01,  3.33270162e-01, -3.88079256e-01,  3.95581983e-02,\n",
       "        3.35793436e-01, -8.95271599e-02,  4.11285982e-02, -6.54346496e-02,\n",
       "       -5.38252056e-01,  5.41853793e-02, -2.39979118e-01, -5.15360355e-01,\n",
       "       -5.17428398e-01,  6.63107708e-02,  2.53240019e-01, -5.32530546e-02,\n",
       "       -3.64912570e-01, -5.41862249e-01, -8.55197012e-02, -2.18764260e-01,\n",
       "       -9.71866399e-02, -1.63683742e-02,  2.91897655e-01, -1.09236762e-02,\n",
       "        3.23754281e-01, -2.37772595e-02, -3.20956618e-01,  4.58288938e-01,\n",
       "       -1.14624619e-01,  3.14660341e-01,  1.42203540e-01, -2.21518055e-02,\n",
       "       -3.65332961e-01,  3.04255188e-01,  1.72427759e-01,  5.24728075e-02,\n",
       "        2.34922059e-02,  2.73448117e-02,  2.90237784e-01,  5.07293977e-02,\n",
       "        3.35647315e-01,  3.57571840e-02,  3.66677530e-02,  1.61752731e-01,\n",
       "        3.48651350e-01,  5.73396683e-04, -1.38098800e+00,  5.48090577e-01,\n",
       "        4.40666825e-01,  4.34584357e-02,  4.28124219e-02,  1.09275565e-01,\n",
       "       -2.01107755e-01,  5.63911140e-01,  1.70563281e-01,  3.64176661e-01,\n",
       "       -2.82786161e-01,  1.91205025e-01,  3.10394555e-01,  1.04945123e-01,\n",
       "        4.75529209e-02,  3.16992849e-01, -1.72006384e-01, -4.17015880e-01,\n",
       "        1.67243928e-02, -2.27151603e-01, -8.91857818e-02,  1.36502668e-01,\n",
       "       -2.13432059e-01,  8.97730514e-02, -9.19006988e-02, -1.38914540e-01,\n",
       "       -3.65604579e-01,  4.89381909e-01,  3.16834897e-02,  4.48700815e-01,\n",
       "       -5.71035631e-02, -2.96046525e-01, -4.03615117e-01, -2.40943998e-01,\n",
       "       -1.39391929e-01, -2.37007469e-01,  1.50746301e-01, -3.09335262e-01,\n",
       "        3.09868127e-01,  1.99415997e-01, -4.50642139e-01,  6.51171029e-01,\n",
       "        2.38548622e-01, -2.18397260e-01,  3.94251168e-01,  4.45181489e-01,\n",
       "       -1.01536117e-01,  4.87213135e-01,  2.28084669e-01, -3.35024357e-01,\n",
       "       -2.39137888e-01, -3.68018895e-01, -2.00126380e-01, -3.15504149e-02,\n",
       "        2.71195650e-01, -1.97563559e-01,  1.06190301e-01,  1.02521069e-01,\n",
       "       -5.73508501e-01, -2.98084281e-02,  5.98394871e-02, -3.86444718e-01,\n",
       "       -3.41514647e-01,  1.70257464e-02, -3.51630718e-01, -7.36645043e-01,\n",
       "       -9.51827765e-02, -2.53976822e-01, -2.11861640e-01,  2.01173395e-01,\n",
       "        4.79319274e-01, -1.50414884e-01, -3.22872847e-01, -1.08779408e-02,\n",
       "       -5.60258746e-01,  2.03365773e-01,  1.92551136e-01,  2.65649199e-01,\n",
       "        1.04989752e-01, -4.92543995e-01, -1.61120910e-02, -4.66346145e-02,\n",
       "       -3.62391293e-01,  2.85043538e-01, -1.84303522e-01,  4.21972811e-01,\n",
       "       -3.08212906e-01, -7.69256800e-02, -5.53148799e-02, -1.76608592e-01,\n",
       "       -2.04484090e-01, -3.12952787e-01,  4.25074309e-01, -3.16715270e-01,\n",
       "       -1.04815878e-01,  9.96561944e-02,  3.77676576e-01, -1.36485696e-01,\n",
       "       -1.11429274e-01,  9.55248624e-03, -3.34695309e-01,  2.92360127e-01,\n",
       "        1.76926970e-01,  2.63811976e-01,  1.66559219e-01,  2.19622448e-01,\n",
       "        2.22943395e-01,  4.22055312e-02, -2.87054181e-01, -1.41946524e-02,\n",
       "        3.38905193e-02,  4.83284503e-01,  9.03397799e-02, -1.02568835e-01,\n",
       "       -1.12855338e-01, -2.45788127e-01,  2.80992776e-01, -4.19978559e-01,\n",
       "        2.40591955e+00,  4.83509004e-01,  4.29100156e-01, -3.80346864e-01,\n",
       "        1.69779912e-01, -1.44349858e-01, -1.31000638e-01,  4.19584632e-01,\n",
       "       -1.28956228e-01,  3.88683200e-01, -2.04755500e-01,  2.61690281e-02,\n",
       "       -1.83076739e-01,  1.09813161e-01,  2.93511391e-01,  7.69749284e-02,\n",
       "       -1.16810516e-01, -7.17822760e-02, -4.96905029e-01, -2.74262249e-01,\n",
       "       -6.43728256e-01,  8.67551938e-02,  1.22610755e-01, -3.02340686e-01,\n",
       "       -1.02121606e-02,  2.80990899e-01,  3.21078718e-01, -9.34764147e-02,\n",
       "        2.16446668e-01,  2.42732421e-01, -2.33387142e-01, -2.98503563e-02,\n",
       "       -1.36935294e-01,  3.28364044e-01, -2.18570337e-01, -8.77192542e-02,\n",
       "        1.79282039e-01, -1.69095010e-01,  8.37207586e-02,  7.38236904e-02,\n",
       "        2.96303481e-01, -5.13436139e-01,  3.34401578e-01, -3.47149938e-01,\n",
       "       -2.66888231e-01,  4.95202303e-01, -1.31447107e-01,  7.10718334e-04,\n",
       "        8.30712318e-02,  3.47496331e-01,  2.62777619e-02, -7.28826821e-02,\n",
       "       -9.94382650e-02, -1.08783856e-01, -2.16220438e-01, -9.67530534e-02,\n",
       "       -7.31964037e-03, -1.44816071e-01, -2.86293149e-01, -1.80397481e-01,\n",
       "       -3.76583412e-02,  1.20471418e-02,  2.34899193e-01, -2.20197830e-02,\n",
       "        1.94293305e-01, -1.89965531e-01, -2.88567215e-01, -5.04088812e-02,\n",
       "        9.54137836e-03, -2.99522996e-01, -1.57068968e-01,  2.91086316e-01,\n",
       "        4.11809176e-01, -1.22702651e-01,  3.16560000e-01,  1.17209360e-01,\n",
       "        3.47928524e-01, -9.76780280e-02, -2.83304214e-01, -2.67076230e+00,\n",
       "        1.80967689e-01, -8.96754786e-02,  7.28630498e-02,  7.58395046e-02,\n",
       "        5.61806738e-01,  5.97908139e-01, -1.14908010e-01,  9.39901024e-02,\n",
       "       -1.56040609e-01,  1.27234042e-01,  3.59144434e-02,  3.00185889e-01,\n",
       "        3.40122163e-01,  1.40585631e-01,  2.12317109e-01,  3.21612775e-01,\n",
       "       -4.14954603e-01, -7.43026435e-02, -1.48962349e-01, -3.20936590e-02,\n",
       "        3.49850029e-01,  4.46816571e-02, -1.95646137e-01, -2.72339493e-01,\n",
       "        2.40346700e-01, -1.36658281e-01, -1.15100317e-01,  2.55968273e-01,\n",
       "        2.73439795e-01, -9.22118127e-02,  5.84986389e-01, -2.19687134e-01,\n",
       "       -1.84926577e-02, -6.53795749e-02, -1.80602118e-01, -3.42622638e-01,\n",
       "        1.41674191e-01,  2.74347365e-01,  2.47323602e-01,  4.41184118e-02,\n",
       "        1.80844411e-01, -1.33155718e-01,  1.10250399e-01,  9.41846520e-02,\n",
       "       -3.71061236e-01,  2.57119447e-01, -2.75401771e-01,  5.37242353e-01,\n",
       "       -3.64180595e-01,  2.43994966e-02,  2.28489950e-01,  4.52118516e-01,\n",
       "       -9.18915421e-02,  2.24424288e-01,  1.90262407e-01,  7.54472613e-02,\n",
       "        2.89144725e-01,  6.58986568e-02, -1.99871927e-01,  5.50006926e-02,\n",
       "       -7.48264268e-02, -3.46168190e-01, -7.03820363e-02,  4.84453321e-01,\n",
       "       -9.03620124e-02,  2.16945782e-02, -1.59741074e-01, -2.98768044e-01,\n",
       "       -1.82170883e-01, -4.20356333e-01,  7.10097775e-02,  3.89802217e-01,\n",
       "        1.18625090e-01,  2.31542543e-01, -2.80477777e-02,  4.43738043e-01,\n",
       "        4.14471328e-01,  6.95613325e-02,  1.56769007e-02, -2.51440089e-02,\n",
       "       -2.10060343e-01, -4.25735116e-01, -9.59298909e-02,  1.22775719e-01,\n",
       "       -7.55399418e+00, -1.13622613e-01, -1.05475709e-01, -6.15936443e-02,\n",
       "       -6.04185127e-02, -2.22246766e-01, -1.18556239e-01, -4.81396735e-01,\n",
       "        2.19552830e-01,  1.88013971e-01, -1.41338810e-01,  2.11590469e-01,\n",
       "       -1.37899593e-01, -2.27510512e-01,  4.75483954e-01,  1.28430083e-01],\n",
       "      dtype=float32)>"
      ]
     },
     "execution_count": 33,
     "metadata": {},
     "output_type": "execute_result"
    }
   ],
   "source": [
    "encoded_text['sequence_output'][0][0]"
   ]
  },
  {
   "cell_type": "code",
   "execution_count": 38,
   "metadata": {},
   "outputs": [
    {
     "data": {
      "text/plain": [
       "<tf.Tensor: shape=(2, 128, 768), dtype=float32, numpy=\n",
       "array([[[ 0.05304579,  0.0614859 ,  0.08624179, ..., -0.22751051,\n",
       "          0.47548395,  0.12843008],\n",
       "        [ 0.47046626, -0.05699513, -0.3709426 , ..., -0.20840652,\n",
       "          1.0462556 ,  0.20479555],\n",
       "        [ 0.38208592,  0.17891465, -0.03811961, ..., -0.67165154,\n",
       "          0.49275514, -0.2130884 ],\n",
       "        ...,\n",
       "        [ 0.2640902 ,  0.05137955,  0.48115087, ...,  0.24334165,\n",
       "          0.14693391,  0.02800762],\n",
       "        [ 0.34723312, -0.10023018,  0.4984259 , ...,  0.3018473 ,\n",
       "          0.24262977, -0.12347432],\n",
       "        [ 0.22551095,  0.04183995,  0.5630046 , ...,  0.2628521 ,\n",
       "          0.10939378, -0.04718736]],\n",
       "\n",
       "       [[ 0.36131206, -0.01128329,  0.3242863 , ..., -0.04654211,\n",
       "          0.40982947,  0.0444705 ],\n",
       "        [ 0.2248976 , -0.02566834, -0.01634575, ..., -0.53965443,\n",
       "          0.873898  ,  0.15155746],\n",
       "        [ 0.02061738,  0.24696551,  0.16240554, ..., -0.52075714,\n",
       "          0.28469613, -0.25185913],\n",
       "        ...,\n",
       "        [ 0.00284102, -0.20068339,  0.42632198, ...,  0.57177126,\n",
       "          0.3129046 ,  0.06924459],\n",
       "        [ 0.14611976, -0.07353577,  0.5977653 , ...,  0.43001765,\n",
       "          0.19475655,  0.1881716 ],\n",
       "        [ 0.19939917,  0.20212874,  0.61650693, ...,  0.30340618,\n",
       "          0.09739164,  0.20849743]]], dtype=float32)>"
      ]
     },
     "execution_count": 38,
     "metadata": {},
     "output_type": "execute_result"
    }
   ],
   "source": [
    "encoded_text['encoder_outputs'][-1]"
   ]
  },
  {
   "cell_type": "code",
   "execution_count": 39,
   "metadata": {},
   "outputs": [],
   "source": [
    "import pandas as pd"
   ]
  },
  {
   "cell_type": "code",
   "execution_count": 45,
   "metadata": {},
   "outputs": [],
   "source": [
    "df=pd.read_csv('dataset.csv')"
   ]
  },
  {
   "cell_type": "code",
   "execution_count": 47,
   "metadata": {},
   "outputs": [
    {
     "data": {
      "text/html": [
       "<div>\n",
       "<style scoped>\n",
       "    .dataframe tbody tr th:only-of-type {\n",
       "        vertical-align: middle;\n",
       "    }\n",
       "\n",
       "    .dataframe tbody tr th {\n",
       "        vertical-align: top;\n",
       "    }\n",
       "\n",
       "    .dataframe thead th {\n",
       "        text-align: right;\n",
       "    }\n",
       "</style>\n",
       "<table border=\"1\" class=\"dataframe\">\n",
       "  <thead>\n",
       "    <tr style=\"text-align: right;\">\n",
       "      <th></th>\n",
       "      <th>review</th>\n",
       "      <th>sentiment</th>\n",
       "    </tr>\n",
       "  </thead>\n",
       "  <tbody>\n",
       "    <tr>\n",
       "      <th>203</th>\n",
       "      <td>I absolutely love this film. Everything about ...</td>\n",
       "      <td>positive</td>\n",
       "    </tr>\n",
       "    <tr>\n",
       "      <th>32680</th>\n",
       "      <td>I usually like movies about animals or reptile...</td>\n",
       "      <td>negative</td>\n",
       "    </tr>\n",
       "    <tr>\n",
       "      <th>1500</th>\n",
       "      <td>Oh dear god. This was horrible. There is bad, ...</td>\n",
       "      <td>negative</td>\n",
       "    </tr>\n",
       "    <tr>\n",
       "      <th>8441</th>\n",
       "      <td>This remarkable film can be summed up very eas...</td>\n",
       "      <td>positive</td>\n",
       "    </tr>\n",
       "    <tr>\n",
       "      <th>17972</th>\n",
       "      <td>I went along to this movie with some trepidati...</td>\n",
       "      <td>negative</td>\n",
       "    </tr>\n",
       "    <tr>\n",
       "      <th>5452</th>\n",
       "      <td>\"On a Clear Day You Can See Forever\" is nothin...</td>\n",
       "      <td>negative</td>\n",
       "    </tr>\n",
       "    <tr>\n",
       "      <th>37916</th>\n",
       "      <td>whomever thought of having sequels to Iron Eag...</td>\n",
       "      <td>negative</td>\n",
       "    </tr>\n",
       "    <tr>\n",
       "      <th>45863</th>\n",
       "      <td>Loved the original story, had very high expect...</td>\n",
       "      <td>negative</td>\n",
       "    </tr>\n",
       "    <tr>\n",
       "      <th>28673</th>\n",
       "      <td>Now, the sci-fi channel original company has m...</td>\n",
       "      <td>positive</td>\n",
       "    </tr>\n",
       "    <tr>\n",
       "      <th>48596</th>\n",
       "      <td>Notwithstanding that \"The House of Adam\" is me...</td>\n",
       "      <td>negative</td>\n",
       "    </tr>\n",
       "  </tbody>\n",
       "</table>\n",
       "</div>"
      ],
      "text/plain": [
       "                                                  review sentiment\n",
       "203    I absolutely love this film. Everything about ...  positive\n",
       "32680  I usually like movies about animals or reptile...  negative\n",
       "1500   Oh dear god. This was horrible. There is bad, ...  negative\n",
       "8441   This remarkable film can be summed up very eas...  positive\n",
       "17972  I went along to this movie with some trepidati...  negative\n",
       "5452   \"On a Clear Day You Can See Forever\" is nothin...  negative\n",
       "37916  whomever thought of having sequels to Iron Eag...  negative\n",
       "45863  Loved the original story, had very high expect...  negative\n",
       "28673  Now, the sci-fi channel original company has m...  positive\n",
       "48596  Notwithstanding that \"The House of Adam\" is me...  negative"
      ]
     },
     "execution_count": 47,
     "metadata": {},
     "output_type": "execute_result"
    }
   ],
   "source": [
    "df.sample(10)\n"
   ]
  },
  {
   "cell_type": "code",
   "execution_count": 48,
   "metadata": {},
   "outputs": [],
   "source": [
    "df['output']=df['sentiment'].apply(lambda x : 1 if x=='positive' else 0)"
   ]
  },
  {
   "cell_type": "code",
   "execution_count": 49,
   "metadata": {},
   "outputs": [
    {
     "data": {
      "text/html": [
       "<div>\n",
       "<style scoped>\n",
       "    .dataframe tbody tr th:only-of-type {\n",
       "        vertical-align: middle;\n",
       "    }\n",
       "\n",
       "    .dataframe tbody tr th {\n",
       "        vertical-align: top;\n",
       "    }\n",
       "\n",
       "    .dataframe thead th {\n",
       "        text-align: right;\n",
       "    }\n",
       "</style>\n",
       "<table border=\"1\" class=\"dataframe\">\n",
       "  <thead>\n",
       "    <tr style=\"text-align: right;\">\n",
       "      <th></th>\n",
       "      <th>review</th>\n",
       "      <th>sentiment</th>\n",
       "      <th>output</th>\n",
       "    </tr>\n",
       "  </thead>\n",
       "  <tbody>\n",
       "    <tr>\n",
       "      <th>28831</th>\n",
       "      <td>Not a box office success; no-one really knows ...</td>\n",
       "      <td>positive</td>\n",
       "      <td>1</td>\n",
       "    </tr>\n",
       "    <tr>\n",
       "      <th>17508</th>\n",
       "      <td>The Hindi version of the film is 121 minutes. ...</td>\n",
       "      <td>positive</td>\n",
       "      <td>1</td>\n",
       "    </tr>\n",
       "    <tr>\n",
       "      <th>34650</th>\n",
       "      <td>\"I fear you speak upon the rack, where men enf...</td>\n",
       "      <td>positive</td>\n",
       "      <td>1</td>\n",
       "    </tr>\n",
       "    <tr>\n",
       "      <th>34449</th>\n",
       "      <td>I know one is not supposed to comment on other...</td>\n",
       "      <td>positive</td>\n",
       "      <td>1</td>\n",
       "    </tr>\n",
       "    <tr>\n",
       "      <th>45350</th>\n",
       "      <td>'Nemesis' was the last book to feature Miss Ma...</td>\n",
       "      <td>positive</td>\n",
       "      <td>1</td>\n",
       "    </tr>\n",
       "    <tr>\n",
       "      <th>29866</th>\n",
       "      <td>The excruciatingly slow pace of this film was ...</td>\n",
       "      <td>negative</td>\n",
       "      <td>0</td>\n",
       "    </tr>\n",
       "    <tr>\n",
       "      <th>40016</th>\n",
       "      <td>Having already seen the original \"Jack Frost\",...</td>\n",
       "      <td>negative</td>\n",
       "      <td>0</td>\n",
       "    </tr>\n",
       "    <tr>\n",
       "      <th>27210</th>\n",
       "      <td>\"The New hope of Romanian cinema\"...if this is...</td>\n",
       "      <td>negative</td>\n",
       "      <td>0</td>\n",
       "    </tr>\n",
       "    <tr>\n",
       "      <th>7982</th>\n",
       "      <td>I do not envy Barry Levinson, Rachel Weisz, Be...</td>\n",
       "      <td>negative</td>\n",
       "      <td>0</td>\n",
       "    </tr>\n",
       "    <tr>\n",
       "      <th>10414</th>\n",
       "      <td>Here's a well-made war story, nicely shot and ...</td>\n",
       "      <td>positive</td>\n",
       "      <td>1</td>\n",
       "    </tr>\n",
       "  </tbody>\n",
       "</table>\n",
       "</div>"
      ],
      "text/plain": [
       "                                                  review sentiment  output\n",
       "28831  Not a box office success; no-one really knows ...  positive       1\n",
       "17508  The Hindi version of the film is 121 minutes. ...  positive       1\n",
       "34650  \"I fear you speak upon the rack, where men enf...  positive       1\n",
       "34449  I know one is not supposed to comment on other...  positive       1\n",
       "45350  'Nemesis' was the last book to feature Miss Ma...  positive       1\n",
       "29866  The excruciatingly slow pace of this film was ...  negative       0\n",
       "40016  Having already seen the original \"Jack Frost\",...  negative       0\n",
       "27210  \"The New hope of Romanian cinema\"...if this is...  negative       0\n",
       "7982   I do not envy Barry Levinson, Rachel Weisz, Be...  negative       0\n",
       "10414  Here's a well-made war story, nicely shot and ...  positive       1"
      ]
     },
     "execution_count": 49,
     "metadata": {},
     "output_type": "execute_result"
    }
   ],
   "source": [
    "df.sample(10)"
   ]
  },
  {
   "cell_type": "code",
   "execution_count": 50,
   "metadata": {},
   "outputs": [
    {
     "data": {
      "text/html": [
       "<div>\n",
       "<style scoped>\n",
       "    .dataframe tbody tr th:only-of-type {\n",
       "        vertical-align: middle;\n",
       "    }\n",
       "\n",
       "    .dataframe tbody tr th {\n",
       "        vertical-align: top;\n",
       "    }\n",
       "\n",
       "    .dataframe thead tr th {\n",
       "        text-align: left;\n",
       "    }\n",
       "\n",
       "    .dataframe thead tr:last-of-type th {\n",
       "        text-align: right;\n",
       "    }\n",
       "</style>\n",
       "<table border=\"1\" class=\"dataframe\">\n",
       "  <thead>\n",
       "    <tr>\n",
       "      <th></th>\n",
       "      <th colspan=\"4\" halign=\"left\">review</th>\n",
       "      <th colspan=\"4\" halign=\"left\">sentiment</th>\n",
       "    </tr>\n",
       "    <tr>\n",
       "      <th></th>\n",
       "      <th>count</th>\n",
       "      <th>unique</th>\n",
       "      <th>top</th>\n",
       "      <th>freq</th>\n",
       "      <th>count</th>\n",
       "      <th>unique</th>\n",
       "      <th>top</th>\n",
       "      <th>freq</th>\n",
       "    </tr>\n",
       "    <tr>\n",
       "      <th>output</th>\n",
       "      <th></th>\n",
       "      <th></th>\n",
       "      <th></th>\n",
       "      <th></th>\n",
       "      <th></th>\n",
       "      <th></th>\n",
       "      <th></th>\n",
       "      <th></th>\n",
       "    </tr>\n",
       "  </thead>\n",
       "  <tbody>\n",
       "    <tr>\n",
       "      <th>0</th>\n",
       "      <td>25000</td>\n",
       "      <td>24698</td>\n",
       "      <td>This show comes up with interesting locations ...</td>\n",
       "      <td>3</td>\n",
       "      <td>25000</td>\n",
       "      <td>1</td>\n",
       "      <td>negative</td>\n",
       "      <td>25000</td>\n",
       "    </tr>\n",
       "    <tr>\n",
       "      <th>1</th>\n",
       "      <td>25000</td>\n",
       "      <td>24884</td>\n",
       "      <td>Loved today's show!!! It was a variety and not...</td>\n",
       "      <td>5</td>\n",
       "      <td>25000</td>\n",
       "      <td>1</td>\n",
       "      <td>positive</td>\n",
       "      <td>25000</td>\n",
       "    </tr>\n",
       "  </tbody>\n",
       "</table>\n",
       "</div>"
      ],
      "text/plain": [
       "       review                                                                 \\\n",
       "        count unique                                                top freq   \n",
       "output                                                                         \n",
       "0       25000  24698  This show comes up with interesting locations ...    3   \n",
       "1       25000  24884  Loved today's show!!! It was a variety and not...    5   \n",
       "\n",
       "       sentiment                          \n",
       "           count unique       top   freq  \n",
       "output                                    \n",
       "0          25000      1  negative  25000  \n",
       "1          25000      1  positive  25000  "
      ]
     },
     "execution_count": 50,
     "metadata": {},
     "output_type": "execute_result"
    }
   ],
   "source": [
    "df.groupby('output').describe()"
   ]
  },
  {
   "cell_type": "code",
   "execution_count": 51,
   "metadata": {},
   "outputs": [],
   "source": [
    "import seaborn as sns"
   ]
  },
  {
   "cell_type": "code",
   "execution_count": 53,
   "metadata": {},
   "outputs": [
    {
     "data": {
      "text/plain": [
       "<Axes: xlabel='sentiment', ylabel='count'>"
      ]
     },
     "execution_count": 53,
     "metadata": {},
     "output_type": "execute_result"
    },
    {
     "data": {
      "image/png": "[encoded data removed]",
      "text/plain": [
       "<Figure size 640x480 with 1 Axes>"
      ]
     },
     "metadata": {},
     "output_type": "display_data"
    }
   ],
   "source": [
    "sns.countplot(x=df['sentiment'])"
   ]
  },
  {
   "cell_type": "code",
   "execution_count": 58,
   "metadata": {},
   "outputs": [],
   "source": [
    "positive_reviews=df[df['sentiment']=='positive']\n",
    "negative_reviews=df[df['sentiment']=='negative']"
   ]
  },
  {
   "cell_type": "code",
   "execution_count": 60,
   "metadata": {},
   "outputs": [],
   "source": [
    "positive_reviews_100= positive_reviews.sample(100)\n",
    "negative_reviews_100= positive_reviews.sample(100)"
   ]
  },
  {
   "cell_type": "code",
   "execution_count": 61,
   "metadata": {},
   "outputs": [],
   "source": [
    "df_200= pd.concat([positive_reviews_100, negative_reviews_100])"
   ]
  },
  {
   "cell_type": "code",
   "execution_count": 62,
   "metadata": {},
   "outputs": [
    {
     "data": {
      "text/plain": [
       "(200, 3)"
      ]
     },
     "execution_count": 62,
     "metadata": {},
     "output_type": "execute_result"
    }
   ],
   "source": [
    "df_200.shape"
   ]
  },
  {
   "cell_type": "code",
   "execution_count": 54,
   "metadata": {},
   "outputs": [],
   "source": [
    "from sklearn.model_selection import train_test_split"
   ]
  },
  {
   "cell_type": "code",
   "execution_count": 63,
   "metadata": {},
   "outputs": [],
   "source": [
    "x_train, x_test, y_train, y_test = train_test_split(\n",
    "    df_200['review'], \n",
    "    df_200['output'],\n",
    "    stratify=df_200['output'],\n",
    "    test_size=0.2\n",
    "    )"
   ]
  },
  {
   "cell_type": "code",
   "execution_count": 93,
   "metadata": {},
   "outputs": [],
   "source": [
    "input_layer = tf.keras.layers.Input(shape=(), name=\"input\", dtype=tf.dtypes.string)\n",
    "preprocess_layer=bert_preprocess_model(input_layer)\n",
    "encoder_layer = bert_encoder_model(preprocess_layer)\n",
    "dropout_layer = tf.keras.layers.Dropout(rate=0.1, name ='dropout')(encoder_layer['pooled_output'])\n",
    "output_layer = tf.keras.layers.Dense(1, activation='sigmoid', name = 'output')(dropout_layer)\n",
    "model = tf.keras.Model(inputs = [input_layer], outputs=[output_layer])"
   ]
  },
  {
   "cell_type": "code",
   "execution_count": 94,
   "metadata": {},
   "outputs": [
    {
     "name": "stdout",
     "output_type": "stream",
     "text": [
      "Model: \"model_2\"\n",
      "__________________________________________________________________________________________________\n",
      " Layer (type)                   Output Shape         Param #     Connected to                     \n",
      "==================================================================================================\n",
      " input (InputLayer)             [(None,)]            0           []                               \n",
      "                                                                                                  \n",
      " keras_layer_3 (KerasLayer)     {'input_type_ids':   0           ['input[0][0]']                  \n",
      "                                (None, 128),                                                      \n",
      "                                 'input_mask': (Non                                               \n",
      "                                e, 128),                                                          \n",
      "                                 'input_word_ids':                                                \n",
      "                                (None, 128)}                                                      \n",
      "                                                                                                  \n",
      " keras_layer_4 (KerasLayer)     {'pooled_output': (  109482241   ['keras_layer_3[3][0]',          \n",
      "                                None, 768),                       'keras_layer_3[3][1]',          \n",
      "                                 'sequence_output':               'keras_layer_3[3][2]']          \n",
      "                                 (None, 128, 768),                                                \n",
      "                                 'encoder_outputs':                                               \n",
      "                                 [(None, 128, 768),                                               \n",
      "                                 (None, 128, 768),                                                \n",
      "                                 (None, 128, 768),                                                \n",
      "                                 (None, 128, 768),                                                \n",
      "                                 (None, 128, 768),                                                \n",
      "                                 (None, 128, 768),                                                \n",
      "                                 (None, 128, 768),                                                \n",
      "                                 (None, 128, 768),                                                \n",
      "                                 (None, 128, 768),                                                \n",
      "                                 (None, 128, 768),                                                \n",
      "                                 (None, 128, 768),                                                \n",
      "                                 (None, 128, 768)],                                               \n",
      "                                 'default': (None,                                                \n",
      "                                768)}                                                             \n",
      "                                                                                                  \n",
      " dropout (Dropout)              (None, 768)          0           ['keras_layer_4[3][13]']         \n",
      "                                                                                                  \n",
      " output (Dense)                 (None, 3)            2307        ['dropout[0][0]']                \n",
      "                                                                                                  \n",
      "==================================================================================================\n",
      "Total params: 109,484,548\n",
      "Trainable params: 2,307\n",
      "Non-trainable params: 109,482,241\n",
      "__________________________________________________________________________________________________\n"
     ]
    }
   ],
   "source": [
    "model.summary()"
   ]
  },
  {
   "cell_type": "code",
   "execution_count": 72,
   "metadata": {},
   "outputs": [],
   "source": [
    "metrics=[\n",
    "    tf.keras.metrics.BinaryAccuracy(),\n",
    "    tf.keras.metrics.Precision(),\n",
    "    tf.keras.metrics.Recall()\n",
    "    ]\n",
    "model.compile(optimizer='adam', loss='binary_crossentropy', metrics= metrics)"
   ]
  },
  {
   "cell_type": "code",
   "execution_count": 91,
   "metadata": {},
   "outputs": [
    {
     "name": "stdout",
     "output_type": "stream",
     "text": [
      "Epoch 1/10\n",
      "13/13 [==============================] - 17s 1s/step - loss: 0.0230 - binary_accuracy: 0.9922 - precision_1: 1.0000 - recall: 0.9922 - val_loss: 0.0143 - val_binary_accuracy: 1.0000 - val_precision_1: 1.0000 - val_recall: 1.0000\n",
      "Epoch 2/10\n",
      "13/13 [==============================] - 15s 1s/step - loss: 0.0143 - binary_accuracy: 0.9922 - precision_1: 1.0000 - recall: 0.9922 - val_loss: 0.0113 - val_binary_accuracy: 1.0000 - val_precision_1: 1.0000 - val_recall: 1.0000\n",
      "Epoch 3/10\n",
      "13/13 [==============================] - 15s 1s/step - loss: 0.0127 - binary_accuracy: 0.9922 - precision_1: 1.0000 - recall: 0.9922 - val_loss: 0.0095 - val_binary_accuracy: 1.0000 - val_precision_1: 1.0000 - val_recall: 1.0000\n",
      "Epoch 4/10\n",
      "13/13 [==============================] - 15s 1s/step - loss: 0.0108 - binary_accuracy: 0.9922 - precision_1: 1.0000 - recall: 0.9922 - val_loss: 0.0075 - val_binary_accuracy: 1.0000 - val_precision_1: 1.0000 - val_recall: 1.0000\n",
      "Epoch 5/10\n",
      "13/13 [==============================] - 16s 1s/step - loss: 0.0084 - binary_accuracy: 1.0000 - precision_1: 1.0000 - recall: 1.0000 - val_loss: 0.0065 - val_binary_accuracy: 1.0000 - val_precision_1: 1.0000 - val_recall: 1.0000\n",
      "Epoch 6/10\n",
      "13/13 [==============================] - 15s 1s/step - loss: 0.0082 - binary_accuracy: 1.0000 - precision_1: 1.0000 - recall: 1.0000 - val_loss: 0.0057 - val_binary_accuracy: 1.0000 - val_precision_1: 1.0000 - val_recall: 1.0000\n",
      "Epoch 7/10\n",
      "13/13 [==============================] - 15s 1s/step - loss: 0.0057 - binary_accuracy: 1.0000 - precision_1: 1.0000 - recall: 1.0000 - val_loss: 0.0051 - val_binary_accuracy: 1.0000 - val_precision_1: 1.0000 - val_recall: 1.0000\n",
      "Epoch 8/10\n",
      "13/13 [==============================] - 15s 1s/step - loss: 0.0048 - binary_accuracy: 1.0000 - precision_1: 1.0000 - recall: 1.0000 - val_loss: 0.0046 - val_binary_accuracy: 1.0000 - val_precision_1: 1.0000 - val_recall: 1.0000\n",
      "Epoch 9/10\n",
      "13/13 [==============================] - 15s 1s/step - loss: 0.0050 - binary_accuracy: 1.0000 - precision_1: 1.0000 - recall: 1.0000 - val_loss: 0.0042 - val_binary_accuracy: 1.0000 - val_precision_1: 1.0000 - val_recall: 1.0000\n",
      "Epoch 10/10\n",
      "13/13 [==============================] - 15s 1s/step - loss: 0.0047 - binary_accuracy: 1.0000 - precision_1: 1.0000 - recall: 1.0000 - val_loss: 0.0038 - val_binary_accuracy: 1.0000 - val_precision_1: 1.0000 - val_recall: 1.0000\n"
     ]
    }
   ],
   "source": [
    "history=model.fit(x_train, y_train, validation_split=0.2, epochs=10, batch_size=10)"
   ]
  },
  {
   "cell_type": "code",
   "execution_count": 75,
   "metadata": {},
   "outputs": [
    {
     "name": "stdout",
     "output_type": "stream",
     "text": [
      "2/2 [==============================] - 7s 2s/step\n"
     ]
    }
   ],
   "source": [
    "y_predicted = model.predict(x_test)"
   ]
  },
  {
   "cell_type": "code",
   "execution_count": 76,
   "metadata": {},
   "outputs": [],
   "source": [
    "import numpy as np\n",
    "y_predicted = np.where(y_predicted>0.5,1,0)"
   ]
  },
  {
   "cell_type": "code",
   "execution_count": 77,
   "metadata": {},
   "outputs": [
    {
     "name": "stdout",
     "output_type": "stream",
     "text": [
      "2/2 [==============================] - 5s 3s/step - loss: 0.0063 - binary_accuracy: 1.0000 - precision_1: 1.0000 - recall: 1.0000\n"
     ]
    },
    {
     "data": {
      "text/plain": [
       "[0.006298627704381943, 1.0, 1.0, 1.0]"
      ]
     },
     "execution_count": 77,
     "metadata": {},
     "output_type": "execute_result"
    }
   ],
   "source": [
    "model.evaluate(x_test,y_test)"
   ]
  },
  {
   "cell_type": "code",
   "execution_count": 86,
   "metadata": {},
   "outputs": [],
   "source": [
    "review=['Bad','i enjoy the movie']"
   ]
  },
  {
   "cell_type": "code",
   "execution_count": 90,
   "metadata": {},
   "outputs": [
    {
     "name": "stdout",
     "output_type": "stream",
     "text": [
      "1/1 [==============================] - 1s 583ms/step\n"
     ]
    },
    {
     "data": {
      "text/plain": [
       "array([[0.94391465],\n",
       "       [0.9592807 ]], dtype=float32)"
      ]
     },
     "execution_count": 90,
     "metadata": {},
     "output_type": "execute_result"
    }
   ],
   "source": [
    "res=model.predict(review)\n",
    "res"
   ]
  },
  {
   "cell_type": "code",
   "execution_count": 88,
   "metadata": {},
   "outputs": [],
   "source": [
    "res=np.where(res>0.5,1,0)"
   ]
  },
  {
   "cell_type": "code",
   "execution_count": 89,
   "metadata": {},
   "outputs": [
    {
     "data": {
      "text/plain": [
       "array([[1],\n",
       "       [1]])"
      ]
     },
     "execution_count": 89,
     "metadata": {},
     "output_type": "execute_result"
    }
   ],
   "source": [
    "res"
   ]
  },
  {
   "cell_type": "code",
   "execution_count": null,
   "metadata": {},
   "outputs": [],
   "source": []
  }
 ],
 "metadata": {
  "kernelspec": {
   "display_name": "base",
   "language": "python",
   "name": "python3"
  },
  "language_info": {
   "codemirror_mode": {
    "name": "ipython",
    "version": 3
   },
   "file_extension": ".py",
   "mimetype": "text/x-python",
   "name": "python",
   "nbconvert_exporter": "python",
   "pygments_lexer": "ipython3",
   "version": "3.10.10"
  },
  "orig_nbformat": 4
 },
 "nbformat": 4,
 "nbformat_minor": 2
}
